{
 "cells": [
  {
   "cell_type": "markdown",
   "metadata": {},
   "source": [
    "# Analysis of the California Population Projection (Released 2016)"
   ]
  },
  {
   "cell_type": "markdown",
   "metadata": {},
   "source": [
    "In this Python 3 notebook I set out to analyse the following:\n",
    "- How has the overall population changed since 1970, and how is it projected to change between now and 2050.(1)\n",
    "- How will these changes affect the major counties.(2)\n",
    "- How will the lifespan of the population change within this time period.(3 & 4)\n",
    "\n",
    "My analysis will be based of of the California Population Projection dataset, which can be found here:\n",
    "https://data.ca.gov/dataset/california-population-projection-county-age-gender-and-ethnicity"
   ]
  },
  {
   "cell_type": "markdown",
   "metadata": {},
   "source": [
    "Import the required libraries that we are going to use."
   ]
  },
  {
   "cell_type": "code",
   "execution_count": 1,
   "metadata": {
    "collapsed": true
   },
   "outputs": [],
   "source": [
    "import csv\n",
    "import sys \n",
    "import pylab \n",
    "import os.path\n",
    "import numpy as np\n",
    "import pandas as pd\n",
    "import seaborn as sns \n",
    "import matplotlib.pyplot as plt\n",
    "%matplotlib inline"
   ]
  },
  {
   "cell_type": "markdown",
   "metadata": {},
   "source": [
    "### Data Identification and Collection: "
   ]
  },
  {
   "cell_type": "code",
   "execution_count": 2,
   "metadata": {
    "collapsed": true
   },
   "outputs": [],
   "source": [
    "# Ensure the file exists\n",
    "if not os.path.exists( \"CPP.csv\" ):\n",
    "    print(\"Missing dataset file\")"
   ]
  },
  {
   "cell_type": "markdown",
   "metadata": {},
   "source": [
    "Load and represent the CSV data using a Pandas DataFrame."
   ]
  },
  {
   "cell_type": "code",
   "execution_count": 3,
   "metadata": {
    "collapsed": true
   },
   "outputs": [],
   "source": [
    "df = pd.read_csv( \"CPP.csv\" )"
   ]
  },
  {
   "cell_type": "markdown",
   "metadata": {},
   "source": [
    "Sample of the data:"
   ]
  },
  {
   "cell_type": "code",
   "execution_count": 4,
   "metadata": {},
   "outputs": [
    {
     "data": {
      "text/html": [
       "<div>\n",
       "<style>\n",
       "    .dataframe thead tr:only-child th {\n",
       "        text-align: right;\n",
       "    }\n",
       "\n",
       "    .dataframe thead th {\n",
       "        text-align: left;\n",
       "    }\n",
       "\n",
       "    .dataframe tbody tr th {\n",
       "        vertical-align: top;\n",
       "    }\n",
       "</style>\n",
       "<table border=\"1\" class=\"dataframe\">\n",
       "  <thead>\n",
       "    <tr style=\"text-align: right;\">\n",
       "      <th></th>\n",
       "      <th>fips</th>\n",
       "      <th>county</th>\n",
       "      <th>year</th>\n",
       "      <th>age</th>\n",
       "      <th>pop_female</th>\n",
       "      <th>pop_male</th>\n",
       "      <th>pop_total</th>\n",
       "    </tr>\n",
       "  </thead>\n",
       "  <tbody>\n",
       "    <tr>\n",
       "      <th>0</th>\n",
       "      <td>6001</td>\n",
       "      <td>ALAMEDA</td>\n",
       "      <td>1970</td>\n",
       "      <td>0</td>\n",
       "      <td>8533</td>\n",
       "      <td>8671</td>\n",
       "      <td>17204</td>\n",
       "    </tr>\n",
       "    <tr>\n",
       "      <th>1</th>\n",
       "      <td>6001</td>\n",
       "      <td>ALAMEDA</td>\n",
       "      <td>1970</td>\n",
       "      <td>1</td>\n",
       "      <td>8151</td>\n",
       "      <td>8252</td>\n",
       "      <td>16403</td>\n",
       "    </tr>\n",
       "    <tr>\n",
       "      <th>2</th>\n",
       "      <td>6001</td>\n",
       "      <td>ALAMEDA</td>\n",
       "      <td>1970</td>\n",
       "      <td>2</td>\n",
       "      <td>7753</td>\n",
       "      <td>8015</td>\n",
       "      <td>15768</td>\n",
       "    </tr>\n",
       "    <tr>\n",
       "      <th>3</th>\n",
       "      <td>6001</td>\n",
       "      <td>ALAMEDA</td>\n",
       "      <td>1970</td>\n",
       "      <td>3</td>\n",
       "      <td>8018</td>\n",
       "      <td>8412</td>\n",
       "      <td>16430</td>\n",
       "    </tr>\n",
       "    <tr>\n",
       "      <th>4</th>\n",
       "      <td>6001</td>\n",
       "      <td>ALAMEDA</td>\n",
       "      <td>1970</td>\n",
       "      <td>4</td>\n",
       "      <td>8551</td>\n",
       "      <td>8648</td>\n",
       "      <td>17199</td>\n",
       "    </tr>\n",
       "  </tbody>\n",
       "</table>\n",
       "</div>"
      ],
      "text/plain": [
       "   fips   county  year  age  pop_female  pop_male  pop_total\n",
       "0  6001  ALAMEDA  1970    0        8533      8671      17204\n",
       "1  6001  ALAMEDA  1970    1        8151      8252      16403\n",
       "2  6001  ALAMEDA  1970    2        7753      8015      15768\n",
       "3  6001  ALAMEDA  1970    3        8018      8412      16430\n",
       "4  6001  ALAMEDA  1970    4        8551      8648      17199"
      ]
     },
     "execution_count": 4,
     "metadata": {},
     "output_type": "execute_result"
    }
   ],
   "source": [
    "df.head(5)"
   ]
  },
  {
   "cell_type": "markdown",
   "metadata": {},
   "source": [
    "### Data preparation: "
   ]
  },
  {
   "cell_type": "markdown",
   "metadata": {},
   "source": [
    "Find all distinct fips codes"
   ]
  },
  {
   "cell_type": "code",
   "execution_count": 5,
   "metadata": {},
   "outputs": [
    {
     "data": {
      "text/plain": [
       "array([6001, 6003, 6005, 6007, 6009, 6011, 6013, 6015, 6017, 6019, 6021,\n",
       "       6023, 6025, 6027, 6029, 6031, 6033, 6035, 6037, 6039, 6041, 6043,\n",
       "       6045, 6047, 6049, 6051, 6053, 6055, 6057, 6059, 6061, 6063, 6065,\n",
       "       6067, 6069, 6071, 6073, 6075, 6077, 6079, 6081, 6083, 6085, 6087,\n",
       "       6089, 6091, 6093, 6095, 6097, 6099, 6101, 6103, 6105, 6107, 6109,\n",
       "       6111, 6113, 6115], dtype=int64)"
      ]
     },
     "execution_count": 5,
     "metadata": {},
     "output_type": "execute_result"
    }
   ],
   "source": [
    "df.fips.unique()"
   ]
  },
  {
   "cell_type": "markdown",
   "metadata": {},
   "source": [
    "Each county has its own unique fips code.\n",
    "There are 58 countys in the state of California.\n",
    "There are 58 unique fips codes in the dataset.\n",
    "This would imply that every county is accounted for within the dataset."
   ]
  },
  {
   "cell_type": "markdown",
   "metadata": {},
   "source": [
    "Find all unique county names within the dataset"
   ]
  },
  {
   "cell_type": "code",
   "execution_count": 6,
   "metadata": {},
   "outputs": [
    {
     "data": {
      "text/plain": [
       "array(['ALAMEDA', 'ALPINE', 'AMADOR', 'BUTTE', 'CALAVERAS', 'COLUSA',\n",
       "       'CONTRA COSTA', 'DEL NORTE', 'EL DORADO', 'FRESNO', 'GLENN',\n",
       "       'HUMBOLDT', 'IMPERIAL', 'INYO', 'KERN', 'KINGS', 'LAKE', 'LASSEN',\n",
       "       'LOS ANGELES', 'MADERA', 'MARIN', 'MARIPOSA', 'MENDOCINO', 'MERCED',\n",
       "       'MODOC', 'MONO', 'MONTEREY', 'NAPA', 'NEVADA', 'ORANGE', 'PLACER',\n",
       "       'PLUMAS', 'RIVERSIDE', 'SACRAMENTO', 'SAN BENITO', 'SAN BERNARDINO',\n",
       "       'SAN DIEGO', 'SAN FRANCISCO', 'SAN JOAQUIN', 'SAN LUIS OBISPO',\n",
       "       'SAN MATEO', 'SANTA BARBARA', 'SANTA CLARA', 'SANTA CRUZ', 'SHASTA',\n",
       "       'SIERRA', 'SISKIYOU', 'SOLANO', 'SONOMA', 'STANISLAUS', 'SUTTER',\n",
       "       'TEHAMA', 'TRINITY', 'TULARE', 'TUOLUMNE', 'VENTURA', 'YOLO', 'YUBA'], dtype=object)"
      ]
     },
     "execution_count": 6,
     "metadata": {},
     "output_type": "execute_result"
    }
   ],
   "source": [
    "df.county.unique()"
   ]
  },
  {
   "cell_type": "markdown",
   "metadata": {},
   "source": [
    "Again there is 58 strings in this array.\n",
    "So far it seems that everything is in order."
   ]
  },
  {
   "cell_type": "markdown",
   "metadata": {},
   "source": [
    "How many years does this dataset take into account?"
   ]
  },
  {
   "cell_type": "code",
   "execution_count": 7,
   "metadata": {},
   "outputs": [
    {
     "data": {
      "text/plain": [
       "array([1970, 1971, 1972, 1973, 1974, 1975, 1976, 1977, 1978, 1979, 1980,\n",
       "       1981, 1982, 1983, 1984, 1985, 1986, 1987, 1988, 1989, 1990, 1991,\n",
       "       1992, 1993, 1994, 1995, 1996, 1997, 1998, 1999, 2000, 2001, 2002,\n",
       "       2003, 2004, 2005, 2006, 2007, 2008, 2009, 2010, 2011, 2012, 2013,\n",
       "       2014, 2015, 2016, 2017, 2018, 2019, 2020, 2021, 2022, 2023, 2024,\n",
       "       2025, 2026, 2027, 2028, 2029, 2030, 2031, 2032, 2033, 2034, 2035,\n",
       "       2036, 2037, 2038, 2039, 2040, 2041, 2042, 2043, 2044, 2045, 2046,\n",
       "       2047, 2048, 2049, 2050], dtype=int64)"
      ]
     },
     "execution_count": 7,
     "metadata": {},
     "output_type": "execute_result"
    }
   ],
   "source": [
    "df[\"year\"].unique()"
   ]
  },
  {
   "cell_type": "markdown",
   "metadata": {},
   "source": [
    "Find the ages that are recorded in this dataset."
   ]
  },
  {
   "cell_type": "code",
   "execution_count": 8,
   "metadata": {},
   "outputs": [
    {
     "data": {
      "text/plain": [
       "array([  0,   1,   2,   3,   4,   5,   6,   7,   8,   9,  10,  11,  12,\n",
       "        13,  14,  15,  16,  17,  18,  19,  20,  21,  22,  23,  24,  25,\n",
       "        26,  27,  28,  29,  30,  31,  32,  33,  34,  35,  36,  37,  38,\n",
       "        39,  40,  41,  42,  43,  44,  45,  46,  47,  48,  49,  50,  51,\n",
       "        52,  53,  54,  55,  56,  57,  58,  59,  60,  61,  62,  63,  64,\n",
       "        65,  66,  67,  68,  69,  70,  71,  72,  73,  74,  75,  76,  77,\n",
       "        78,  79,  80,  81,  82,  83,  84,  85,  86,  87,  88,  89,  90,\n",
       "        91,  92,  93,  94,  95,  96,  97,  98,  99, 100], dtype=int64)"
      ]
     },
     "execution_count": 8,
     "metadata": {},
     "output_type": "execute_result"
    }
   ],
   "source": [
    "df[\"age\"].unique()"
   ]
  },
  {
   "cell_type": "markdown",
   "metadata": {},
   "source": [
    "Notice that the list of ages stop at 100.\n",
    "What happens in cases where people are older the 100?"
   ]
  },
  {
   "cell_type": "markdown",
   "metadata": {},
   "source": [
    "Data Overview (count and types)"
   ]
  },
  {
   "cell_type": "code",
   "execution_count": 9,
   "metadata": {},
   "outputs": [
    {
     "name": "stdout",
     "output_type": "stream",
     "text": [
      "<class 'pandas.core.frame.DataFrame'>\n",
      "RangeIndex: 474125 entries, 0 to 474124\n",
      "Data columns (total 7 columns):\n",
      "fips          474125 non-null int64\n",
      "county        474125 non-null object\n",
      "year          474125 non-null int64\n",
      "age           474125 non-null int64\n",
      "pop_female    474125 non-null int64\n",
      "pop_male      474125 non-null int64\n",
      "pop_total     474125 non-null int64\n",
      "dtypes: int64(6), object(1)\n",
      "memory usage: 25.3+ MB\n"
     ]
    }
   ],
   "source": [
    "df.info()"
   ]
  },
  {
   "cell_type": "markdown",
   "metadata": {},
   "source": [
    "Each column seems to have the correct amount of values.\n",
    "And 5/6 of the columns are of type int which is ideal.\n",
    "The only exception is column 2 which stories the county's name."
   ]
  },
  {
   "cell_type": "markdown",
   "metadata": {},
   "source": [
    "Test to see if any cells are empty."
   ]
  },
  {
   "cell_type": "code",
   "execution_count": 10,
   "metadata": {},
   "outputs": [
    {
     "data": {
      "text/plain": [
       "fips          0\n",
       "county        0\n",
       "year          0\n",
       "age           0\n",
       "pop_female    0\n",
       "pop_male      0\n",
       "pop_total     0\n",
       "dtype: int64"
      ]
     },
     "execution_count": 10,
     "metadata": {},
     "output_type": "execute_result"
    }
   ],
   "source": [
    "df.isnull().sum()"
   ]
  },
  {
   "cell_type": "markdown",
   "metadata": {},
   "source": [
    "The data I've obtained from the source seems to be very clean, in terms of correct data types, and no missing data."
   ]
  },
  {
   "cell_type": "markdown",
   "metadata": {},
   "source": [
    "I have a good idea of how the data is kept within the dataset, the only thing which I am unsure of is if people over the age of 100 are accounted for, but I can find that out later."
   ]
  },
  {
   "cell_type": "markdown",
   "metadata": {},
   "source": [
    "Although the dataset is clean, there isn't very much that can be done with the way the data is currently stored. \n",
    "It will have to be altered in order for me to be able to display what I need to in the form of graphs."
   ]
  },
  {
   "cell_type": "markdown",
   "metadata": {},
   "source": [
    "#### OverallPopulation Change"
   ]
  },
  {
   "cell_type": "markdown",
   "metadata": {},
   "source": [
    "For this I want to display the overall projected population for each year in the form of a line graph "
   ]
  },
  {
   "cell_type": "markdown",
   "metadata": {},
   "source": [
    "Get 2 arrays, the first one should hold the years, while the second one should contain the population totals for those years"
   ]
  },
  {
   "cell_type": "code",
   "execution_count": 11,
   "metadata": {
    "collapsed": true
   },
   "outputs": [],
   "source": [
    "years = df[\"year\"].unique()"
   ]
  },
  {
   "cell_type": "code",
   "execution_count": 12,
   "metadata": {
    "collapsed": true
   },
   "outputs": [],
   "source": [
    "tpop = 0\n",
    "total_population = []\n",
    "    \n",
    "for year in years:\n",
    "    tpop += df.loc[df['year'] == year, 'pop_total'].sum()\n",
    "    total_population.append(tpop)\n",
    "    tpop = 0\n",
    "        "
   ]
  },
  {
   "cell_type": "code",
   "execution_count": 13,
   "metadata": {},
   "outputs": [
    {
     "name": "stdout",
     "output_type": "stream",
     "text": [
      "[1970 1971 1972 1973 1974 1975 1976 1977 1978 1979 1980 1981 1982 1983 1984\n",
      " 1985 1986 1987 1988 1989 1990 1991 1992 1993 1994 1995 1996 1997 1998 1999\n",
      " 2000 2001 2002 2003 2004 2005 2006 2007 2008 2009 2010 2011 2012 2013 2014\n",
      " 2015 2016 2017 2018 2019 2020 2021 2022 2023 2024 2025 2026 2027 2028 2029\n",
      " 2030 2031 2032 2033 2034 2035 2036 2037 2038 2039 2040 2041 2042 2043 2044\n",
      " 2045 2046 2047 2048 2049 2050] [20038286, 20346189, 20584978, 20869071, 21174085, 21537828, 21935440, 22351703, 22835638, 23256699, 23780068, 24277674, 24805011, 25336301, 25816294, 26402633, 27052291, 27716860, 28393094, 29142106, 29828238, 30458186, 30987427, 31313074, 31523075, 31711003, 31962164, 32451807, 32862213, 33418384, 34000880, 34512689, 34938327, 35388937, 35752738, 35985607, 36246843, 36552532, 36856189, 37077181, 37333583, 37674954, 38041489, 38373434, 38739410, 39059809, 39354432, 39693627, 40033093, 40375963, 40719999, 41061544, 41402168, 41740128, 42074892, 42407005, 42736293, 43062079, 43385297, 43704990, 44019846, 44331101, 44637214, 44936675, 45231400, 45521334, 45807050, 46086600, 46358336, 46624898, 46884801, 47137228, 47384056, 47625037, 47859258, 48088425, 48311059, 48529780, 48744183, 48953170, 49158401]\n"
     ]
    }
   ],
   "source": [
    "print(years,total_population)"
   ]
  },
  {
   "cell_type": "markdown",
   "metadata": {},
   "source": [
    "Everything looks in order"
   ]
  },
  {
   "cell_type": "markdown",
   "metadata": {},
   "source": [
    "### Analysis and interpretation:1 "
   ]
  },
  {
   "cell_type": "code",
   "execution_count": 14,
   "metadata": {},
   "outputs": [
    {
     "data": {
      "image/png": "[encoded data removed]",
      "text/plain": [
       "<matplotlib.figure.Figure at 0x202ab867eb8>"
      ]
     },
     "metadata": {},
     "output_type": "display_data"
    }
   ],
   "source": [
    "plt.plot(years,total_population,color='blue')\n",
    "plt.xlabel('Years')\n",
    "plt.ylabel('Population (in 10s of millions)')\n",
    "plt.title('California Population Projection')\n",
    "plt.show()"
   ]
  },
  {
   "cell_type": "markdown",
   "metadata": {},
   "source": [
    "Analysis: The population is projected to increase steadily right up until 2050. Over twice as many people will be living in the state of California in 2050, when compared to 1970. "
   ]
  },
  {
   "cell_type": "markdown",
   "metadata": {},
   "source": [
    "#### Population Change by County"
   ]
  },
  {
   "cell_type": "markdown",
   "metadata": {},
   "source": [
    "Next I want to see where all of these people will supposedly live. How the rise in population will affect each individual county. Ideally I would be able to place all 58 counties on the line graph. But this would make the graph too hard to interpret. So instead I just choose the top 5 counties (Los Angeles,Orange, Riverside, San Diego and San Francisco)."
   ]
  },
  {
   "cell_type": "code",
   "execution_count": 15,
   "metadata": {
    "collapsed": true
   },
   "outputs": [],
   "source": [
    "#fips codes of the 5 countys\n",
    "fips_codes = [6037,6059,6065,6073,6075]"
   ]
  },
  {
   "cell_type": "markdown",
   "metadata": {},
   "source": [
    "For this, I'll need 3 arrays, one to hold the fips, one to hold the years and finally the last one must contain the total population of that county for the specific year."
   ]
  },
  {
   "cell_type": "code",
   "execution_count": 16,
   "metadata": {
    "collapsed": true
   },
   "outputs": [],
   "source": [
    "fpop = 0\n",
    "total_population2 = []\n",
    "fips = []\n",
    "yrs = []\n",
    "\n",
    "for fip in fips_codes:\n",
    "    for year in years:\n",
    "        fpop += df.loc[(df['fips'] == fip) & (df['year'] == year), 'pop_total'].sum()\n",
    "        fips.append(fip)\n",
    "        yrs.append(year)\n",
    "        total_population2.append(fpop)\n",
    "        fpop = 0\n"
   ]
  },
  {
   "cell_type": "code",
   "execution_count": 17,
   "metadata": {},
   "outputs": [
    {
     "name": "stdout",
     "output_type": "stream",
     "text": [
      "[6037, 6037, 6037, 6037, 6037, 6037, 6037, 6037, 6037, 6037, 6037, 6037, 6037, 6037, 6037, 6037, 6037, 6037, 6037, 6037, 6037, 6037, 6037, 6037, 6037, 6037, 6037, 6037, 6037, 6037, 6037, 6037, 6037, 6037, 6037, 6037, 6037, 6037, 6037, 6037, 6037, 6037, 6037, 6037, 6037, 6037, 6037, 6037, 6037, 6037, 6037, 6037, 6037, 6037, 6037, 6037, 6037, 6037, 6037, 6037, 6037, 6037, 6037, 6037, 6037, 6037, 6037, 6037, 6037, 6037, 6037, 6037, 6037, 6037, 6037, 6037, 6037, 6037, 6037, 6037, 6037, 6059, 6059, 6059, 6059, 6059, 6059, 6059, 6059, 6059, 6059, 6059, 6059, 6059, 6059, 6059, 6059, 6059, 6059, 6059, 6059, 6059, 6059, 6059, 6059, 6059, 6059, 6059, 6059, 6059, 6059, 6059, 6059, 6059, 6059, 6059, 6059, 6059, 6059, 6059, 6059, 6059, 6059, 6059, 6059, 6059, 6059, 6059, 6059, 6059, 6059, 6059, 6059, 6059, 6059, 6059, 6059, 6059, 6059, 6059, 6059, 6059, 6059, 6059, 6059, 6059, 6059, 6059, 6059, 6059, 6059, 6059, 6059, 6059, 6059, 6059, 6059, 6059, 6059, 6059, 6059, 6059, 6065, 6065, 6065, 6065, 6065, 6065, 6065, 6065, 6065, 6065, 6065, 6065, 6065, 6065, 6065, 6065, 6065, 6065, 6065, 6065, 6065, 6065, 6065, 6065, 6065, 6065, 6065, 6065, 6065, 6065, 6065, 6065, 6065, 6065, 6065, 6065, 6065, 6065, 6065, 6065, 6065, 6065, 6065, 6065, 6065, 6065, 6065, 6065, 6065, 6065, 6065, 6065, 6065, 6065, 6065, 6065, 6065, 6065, 6065, 6065, 6065, 6065, 6065, 6065, 6065, 6065, 6065, 6065, 6065, 6065, 6065, 6065, 6065, 6065, 6065, 6065, 6065, 6065, 6065, 6065, 6065, 6073, 6073, 6073, 6073, 6073, 6073, 6073, 6073, 6073, 6073, 6073, 6073, 6073, 6073, 6073, 6073, 6073, 6073, 6073, 6073, 6073, 6073, 6073, 6073, 6073, 6073, 6073, 6073, 6073, 6073, 6073, 6073, 6073, 6073, 6073, 6073, 6073, 6073, 6073, 6073, 6073, 6073, 6073, 6073, 6073, 6073, 6073, 6073, 6073, 6073, 6073, 6073, 6073, 6073, 6073, 6073, 6073, 6073, 6073, 6073, 6073, 6073, 6073, 6073, 6073, 6073, 6073, 6073, 6073, 6073, 6073, 6073, 6073, 6073, 6073, 6073, 6073, 6073, 6073, 6073, 6073, 6075, 6075, 6075, 6075, 6075, 6075, 6075, 6075, 6075, 6075, 6075, 6075, 6075, 6075, 6075, 6075, 6075, 6075, 6075, 6075, 6075, 6075, 6075, 6075, 6075, 6075, 6075, 6075, 6075, 6075, 6075, 6075, 6075, 6075, 6075, 6075, 6075, 6075, 6075, 6075, 6075, 6075, 6075, 6075, 6075, 6075, 6075, 6075, 6075, 6075, 6075, 6075, 6075, 6075, 6075, 6075, 6075, 6075, 6075, 6075, 6075, 6075, 6075, 6075, 6075, 6075, 6075, 6075, 6075, 6075, 6075, 6075, 6075, 6075, 6075, 6075, 6075, 6075, 6075, 6075, 6075] [1970, 1971, 1972, 1973, 1974, 1975, 1976, 1977, 1978, 1979, 1980, 1981, 1982, 1983, 1984, 1985, 1986, 1987, 1988, 1989, 1990, 1991, 1992, 1993, 1994, 1995, 1996, 1997, 1998, 1999, 2000, 2001, 2002, 2003, 2004, 2005, 2006, 2007, 2008, 2009, 2010, 2011, 2012, 2013, 2014, 2015, 2016, 2017, 2018, 2019, 2020, 2021, 2022, 2023, 2024, 2025, 2026, 2027, 2028, 2029, 2030, 2031, 2032, 2033, 2034, 2035, 2036, 2037, 2038, 2039, 2040, 2041, 2042, 2043, 2044, 2045, 2046, 2047, 2048, 2049, 2050, 1970, 1971, 1972, 1973, 1974, 1975, 1976, 1977, 1978, 1979, 1980, 1981, 1982, 1983, 1984, 1985, 1986, 1987, 1988, 1989, 1990, 1991, 1992, 1993, 1994, 1995, 1996, 1997, 1998, 1999, 2000, 2001, 2002, 2003, 2004, 2005, 2006, 2007, 2008, 2009, 2010, 2011, 2012, 2013, 2014, 2015, 2016, 2017, 2018, 2019, 2020, 2021, 2022, 2023, 2024, 2025, 2026, 2027, 2028, 2029, 2030, 2031, 2032, 2033, 2034, 2035, 2036, 2037, 2038, 2039, 2040, 2041, 2042, 2043, 2044, 2045, 2046, 2047, 2048, 2049, 2050, 1970, 1971, 1972, 1973, 1974, 1975, 1976, 1977, 1978, 1979, 1980, 1981, 1982, 1983, 1984, 1985, 1986, 1987, 1988, 1989, 1990, 1991, 1992, 1993, 1994, 1995, 1996, 1997, 1998, 1999, 2000, 2001, 2002, 2003, 2004, 2005, 2006, 2007, 2008, 2009, 2010, 2011, 2012, 2013, 2014, 2015, 2016, 2017, 2018, 2019, 2020, 2021, 2022, 2023, 2024, 2025, 2026, 2027, 2028, 2029, 2030, 2031, 2032, 2033, 2034, 2035, 2036, 2037, 2038, 2039, 2040, 2041, 2042, 2043, 2044, 2045, 2046, 2047, 2048, 2049, 2050, 1970, 1971, 1972, 1973, 1974, 1975, 1976, 1977, 1978, 1979, 1980, 1981, 1982, 1983, 1984, 1985, 1986, 1987, 1988, 1989, 1990, 1991, 1992, 1993, 1994, 1995, 1996, 1997, 1998, 1999, 2000, 2001, 2002, 2003, 2004, 2005, 2006, 2007, 2008, 2009, 2010, 2011, 2012, 2013, 2014, 2015, 2016, 2017, 2018, 2019, 2020, 2021, 2022, 2023, 2024, 2025, 2026, 2027, 2028, 2029, 2030, 2031, 2032, 2033, 2034, 2035, 2036, 2037, 2038, 2039, 2040, 2041, 2042, 2043, 2044, 2045, 2046, 2047, 2048, 2049, 2050, 1970, 1971, 1972, 1973, 1974, 1975, 1976, 1977, 1978, 1979, 1980, 1981, 1982, 1983, 1984, 1985, 1986, 1987, 1988, 1989, 1990, 1991, 1992, 1993, 1994, 1995, 1996, 1997, 1998, 1999, 2000, 2001, 2002, 2003, 2004, 2005, 2006, 2007, 2008, 2009, 2010, 2011, 2012, 2013, 2014, 2015, 2016, 2017, 2018, 2019, 2020, 2021, 2022, 2023, 2024, 2025, 2026, 2027, 2028, 2029, 2030, 2031, 2032, 2033, 2034, 2035, 2036, 2037, 2038, 2039, 2040, 2041, 2042, 2043, 2044, 2045, 2046, 2047, 2048, 2049, 2050] [7055793, 7092010, 7072098, 7084804, 7124499, 7191294, 7243389, 7258199, 7338595, 7389594, 7500308, 7607117, 7766309, 7921906, 8044402, 8190891, 8373119, 8527394, 8639399, 8768685, 8860302, 8955322, 9060253, 9083688, 9106495, 9101127, 9108069, 9185566, 9265805, 9394314, 9543982, 9635792, 9722446, 9791019, 9822509, 9809558, 9787329, 9773899, 9796809, 9805233, 9837011, 9900858, 9988287, 10055477, 10124684, 10185487, 10229245, 10288515, 10344538, 10398558, 10451759, 10502215, 10551604, 10598699, 10644569, 10688523, 10730832, 10771243, 10810932, 10848947, 10885337, 10920165, 10953322, 10984977, 11014656, 11042709, 11070046, 11095826, 11119279, 11141094, 11161569, 11179574, 11197218, 11212616, 11225825, 11238210, 11247693, 11257101, 11264455, 11269849, 11274596, 1431878, 1486294, 1534912, 1601799, 1669708, 1713399, 1752104, 1811009, 1854292, 1896402, 1944825, 2003889, 2043507, 2086016, 2119093, 2166314, 2218416, 2268303, 2316488, 2372397, 2411968, 2458780, 2511762, 2550387, 2575709, 2604527, 2646093, 2699577, 2749551, 2802799, 2853897, 2889905, 2914440, 2939721, 2956484, 2957150, 2955431, 2965821, 2982789, 2998824, 3014962, 3048993, 3084036, 3110802, 3137744, 3161218, 3181371, 3201395, 3221098, 3241190, 3260659, 3279554, 3297840, 3316059, 3333867, 3351315, 3368798, 3385745, 3402674, 3418887, 3434157, 3449402, 3464316, 3478100, 3491495, 3504411, 3516426, 3528129, 3538940, 3549506, 3558718, 3567240, 3575478, 3582907, 3589611, 3595775, 3601365, 3605763, 3610153, 3613696, 3616582, 461597, 477908, 490112, 504412, 519985, 534498, 550788, 578902, 611600, 638986, 669777, 696707, 725589, 755300, 793189, 836398, 888587, 949698, 1018007, 1096498, 1188268, 1254662, 1296441, 1328318, 1352137, 1378777, 1404924, 1436280, 1466539, 1514582, 1557275, 1622449, 1688411, 1772431, 1856880, 1934728, 2017353, 2082656, 2122921, 2158392, 2196137, 2228044, 2253317, 2276765, 2305796, 2329256, 2360727, 2395487, 2431703, 2468955, 2506739, 2544330, 2581886, 2619077, 2655735, 2692006, 2727695, 2762494, 2796462, 2830094, 2863260, 2896152, 2928223, 2960057, 2991072, 3021572, 3052045, 3081413, 3110168, 3138052, 3165363, 3192243, 3217991, 3243246, 3268231, 3292187, 3316047, 3339260, 3362084, 3384122, 3406136, 1367158, 1382516, 1429089, 1480804, 1521397, 1594120, 1654295, 1711298, 1773195, 1831291, 1873285, 1921794, 1965076, 2003516, 2055711, 2109349, 2182931, 2260727, 2341011, 2432807, 2504908, 2554583, 2590269, 2597877, 2610983, 2615187, 2627025, 2679958, 2725710, 2776350, 2828374, 2870097, 2910443, 2943953, 2963392, 2970128, 2982816, 3014169, 3051260, 3077626, 3100529, 3135806, 3174446, 3208946, 3248547, 3275084, 3300891, 3327562, 3353609, 3379796, 3406126, 3431804, 3456960, 3481627, 3505661, 3529054, 3551839, 3574309, 3596486, 3617649, 3638609, 3658764, 3678848, 3698819, 3718005, 3737507, 3756811, 3775648, 3794084, 3812072, 3830210, 3848061, 3865637, 3882919, 3899721, 3916308, 3933213, 3950022, 3966050, 3981636, 3997108, 713186, 712498, 705695, 704801, 699796, 695407, 689579, 683690, 681894, 678091, 680498, 686797, 695216, 704192, 713016, 727501, 737510, 735895, 730103, 724502, 723168, 725860, 731038, 742228, 743333, 739865, 744072, 749422, 758210, 766465, 778943, 782223, 783252, 781873, 780695, 779653, 782931, 791330, 798669, 801800, 809174, 819897, 832605, 843735, 853732, 863108, 871185, 879517, 887916, 896411, 904736, 913169, 921659, 929624, 937668, 945660, 953213, 960498, 967515, 974762, 981738, 988581, 995430, 1002079, 1008715, 1015352, 1021834, 1028560, 1034969, 1041448, 1047902, 1054552, 1061091, 1067823, 1074591, 1081493, 1088445, 1095477, 1102684, 1110276, 1117661]\n"
     ]
    }
   ],
   "source": [
    "print(fips,yrs,total_population2)"
   ]
  },
  {
   "cell_type": "markdown",
   "metadata": {},
   "source": [
    "Looks good, but it needs to be broken down into smaller parts (seperate the data for each county)."
   ]
  },
  {
   "cell_type": "code",
   "execution_count": 18,
   "metadata": {
    "collapsed": true
   },
   "outputs": [],
   "source": [
    "fip_array = [fips[x:x+81] for x in range(0, len(fips), 81)]\n",
    "year_array = [yrs[x:x+81] for x in range(0, len(yrs), 81)]\n",
    "pop_array = [total_population2[x:x+81] for x in range(0, len(total_population2), 81)]"
   ]
  },
  {
   "cell_type": "markdown",
   "metadata": {},
   "source": [
    "This  breaks up the array in to smaller more managable arrays which can be graphed. "
   ]
  },
  {
   "cell_type": "code",
   "execution_count": 19,
   "metadata": {},
   "outputs": [
    {
     "name": "stdout",
     "output_type": "stream",
     "text": [
      "[[6037, 6037, 6037, 6037, 6037, 6037, 6037, 6037, 6037, 6037, 6037, 6037, 6037, 6037, 6037, 6037, 6037, 6037, 6037, 6037, 6037, 6037, 6037, 6037, 6037, 6037, 6037, 6037, 6037, 6037, 6037, 6037, 6037, 6037, 6037, 6037, 6037, 6037, 6037, 6037, 6037, 6037, 6037, 6037, 6037, 6037, 6037, 6037, 6037, 6037, 6037, 6037, 6037, 6037, 6037, 6037, 6037, 6037, 6037, 6037, 6037, 6037, 6037, 6037, 6037, 6037, 6037, 6037, 6037, 6037, 6037, 6037, 6037, 6037, 6037, 6037, 6037, 6037, 6037, 6037, 6037], [6059, 6059, 6059, 6059, 6059, 6059, 6059, 6059, 6059, 6059, 6059, 6059, 6059, 6059, 6059, 6059, 6059, 6059, 6059, 6059, 6059, 6059, 6059, 6059, 6059, 6059, 6059, 6059, 6059, 6059, 6059, 6059, 6059, 6059, 6059, 6059, 6059, 6059, 6059, 6059, 6059, 6059, 6059, 6059, 6059, 6059, 6059, 6059, 6059, 6059, 6059, 6059, 6059, 6059, 6059, 6059, 6059, 6059, 6059, 6059, 6059, 6059, 6059, 6059, 6059, 6059, 6059, 6059, 6059, 6059, 6059, 6059, 6059, 6059, 6059, 6059, 6059, 6059, 6059, 6059, 6059], [6065, 6065, 6065, 6065, 6065, 6065, 6065, 6065, 6065, 6065, 6065, 6065, 6065, 6065, 6065, 6065, 6065, 6065, 6065, 6065, 6065, 6065, 6065, 6065, 6065, 6065, 6065, 6065, 6065, 6065, 6065, 6065, 6065, 6065, 6065, 6065, 6065, 6065, 6065, 6065, 6065, 6065, 6065, 6065, 6065, 6065, 6065, 6065, 6065, 6065, 6065, 6065, 6065, 6065, 6065, 6065, 6065, 6065, 6065, 6065, 6065, 6065, 6065, 6065, 6065, 6065, 6065, 6065, 6065, 6065, 6065, 6065, 6065, 6065, 6065, 6065, 6065, 6065, 6065, 6065, 6065], [6073, 6073, 6073, 6073, 6073, 6073, 6073, 6073, 6073, 6073, 6073, 6073, 6073, 6073, 6073, 6073, 6073, 6073, 6073, 6073, 6073, 6073, 6073, 6073, 6073, 6073, 6073, 6073, 6073, 6073, 6073, 6073, 6073, 6073, 6073, 6073, 6073, 6073, 6073, 6073, 6073, 6073, 6073, 6073, 6073, 6073, 6073, 6073, 6073, 6073, 6073, 6073, 6073, 6073, 6073, 6073, 6073, 6073, 6073, 6073, 6073, 6073, 6073, 6073, 6073, 6073, 6073, 6073, 6073, 6073, 6073, 6073, 6073, 6073, 6073, 6073, 6073, 6073, 6073, 6073, 6073], [6075, 6075, 6075, 6075, 6075, 6075, 6075, 6075, 6075, 6075, 6075, 6075, 6075, 6075, 6075, 6075, 6075, 6075, 6075, 6075, 6075, 6075, 6075, 6075, 6075, 6075, 6075, 6075, 6075, 6075, 6075, 6075, 6075, 6075, 6075, 6075, 6075, 6075, 6075, 6075, 6075, 6075, 6075, 6075, 6075, 6075, 6075, 6075, 6075, 6075, 6075, 6075, 6075, 6075, 6075, 6075, 6075, 6075, 6075, 6075, 6075, 6075, 6075, 6075, 6075, 6075, 6075, 6075, 6075, 6075, 6075, 6075, 6075, 6075, 6075, 6075, 6075, 6075, 6075, 6075, 6075]]\n",
      "[[1970, 1971, 1972, 1973, 1974, 1975, 1976, 1977, 1978, 1979, 1980, 1981, 1982, 1983, 1984, 1985, 1986, 1987, 1988, 1989, 1990, 1991, 1992, 1993, 1994, 1995, 1996, 1997, 1998, 1999, 2000, 2001, 2002, 2003, 2004, 2005, 2006, 2007, 2008, 2009, 2010, 2011, 2012, 2013, 2014, 2015, 2016, 2017, 2018, 2019, 2020, 2021, 2022, 2023, 2024, 2025, 2026, 2027, 2028, 2029, 2030, 2031, 2032, 2033, 2034, 2035, 2036, 2037, 2038, 2039, 2040, 2041, 2042, 2043, 2044, 2045, 2046, 2047, 2048, 2049, 2050], [1970, 1971, 1972, 1973, 1974, 1975, 1976, 1977, 1978, 1979, 1980, 1981, 1982, 1983, 1984, 1985, 1986, 1987, 1988, 1989, 1990, 1991, 1992, 1993, 1994, 1995, 1996, 1997, 1998, 1999, 2000, 2001, 2002, 2003, 2004, 2005, 2006, 2007, 2008, 2009, 2010, 2011, 2012, 2013, 2014, 2015, 2016, 2017, 2018, 2019, 2020, 2021, 2022, 2023, 2024, 2025, 2026, 2027, 2028, 2029, 2030, 2031, 2032, 2033, 2034, 2035, 2036, 2037, 2038, 2039, 2040, 2041, 2042, 2043, 2044, 2045, 2046, 2047, 2048, 2049, 2050], [1970, 1971, 1972, 1973, 1974, 1975, 1976, 1977, 1978, 1979, 1980, 1981, 1982, 1983, 1984, 1985, 1986, 1987, 1988, 1989, 1990, 1991, 1992, 1993, 1994, 1995, 1996, 1997, 1998, 1999, 2000, 2001, 2002, 2003, 2004, 2005, 2006, 2007, 2008, 2009, 2010, 2011, 2012, 2013, 2014, 2015, 2016, 2017, 2018, 2019, 2020, 2021, 2022, 2023, 2024, 2025, 2026, 2027, 2028, 2029, 2030, 2031, 2032, 2033, 2034, 2035, 2036, 2037, 2038, 2039, 2040, 2041, 2042, 2043, 2044, 2045, 2046, 2047, 2048, 2049, 2050], [1970, 1971, 1972, 1973, 1974, 1975, 1976, 1977, 1978, 1979, 1980, 1981, 1982, 1983, 1984, 1985, 1986, 1987, 1988, 1989, 1990, 1991, 1992, 1993, 1994, 1995, 1996, 1997, 1998, 1999, 2000, 2001, 2002, 2003, 2004, 2005, 2006, 2007, 2008, 2009, 2010, 2011, 2012, 2013, 2014, 2015, 2016, 2017, 2018, 2019, 2020, 2021, 2022, 2023, 2024, 2025, 2026, 2027, 2028, 2029, 2030, 2031, 2032, 2033, 2034, 2035, 2036, 2037, 2038, 2039, 2040, 2041, 2042, 2043, 2044, 2045, 2046, 2047, 2048, 2049, 2050], [1970, 1971, 1972, 1973, 1974, 1975, 1976, 1977, 1978, 1979, 1980, 1981, 1982, 1983, 1984, 1985, 1986, 1987, 1988, 1989, 1990, 1991, 1992, 1993, 1994, 1995, 1996, 1997, 1998, 1999, 2000, 2001, 2002, 2003, 2004, 2005, 2006, 2007, 2008, 2009, 2010, 2011, 2012, 2013, 2014, 2015, 2016, 2017, 2018, 2019, 2020, 2021, 2022, 2023, 2024, 2025, 2026, 2027, 2028, 2029, 2030, 2031, 2032, 2033, 2034, 2035, 2036, 2037, 2038, 2039, 2040, 2041, 2042, 2043, 2044, 2045, 2046, 2047, 2048, 2049, 2050]]\n",
      "[[7055793, 7092010, 7072098, 7084804, 7124499, 7191294, 7243389, 7258199, 7338595, 7389594, 7500308, 7607117, 7766309, 7921906, 8044402, 8190891, 8373119, 8527394, 8639399, 8768685, 8860302, 8955322, 9060253, 9083688, 9106495, 9101127, 9108069, 9185566, 9265805, 9394314, 9543982, 9635792, 9722446, 9791019, 9822509, 9809558, 9787329, 9773899, 9796809, 9805233, 9837011, 9900858, 9988287, 10055477, 10124684, 10185487, 10229245, 10288515, 10344538, 10398558, 10451759, 10502215, 10551604, 10598699, 10644569, 10688523, 10730832, 10771243, 10810932, 10848947, 10885337, 10920165, 10953322, 10984977, 11014656, 11042709, 11070046, 11095826, 11119279, 11141094, 11161569, 11179574, 11197218, 11212616, 11225825, 11238210, 11247693, 11257101, 11264455, 11269849, 11274596], [1431878, 1486294, 1534912, 1601799, 1669708, 1713399, 1752104, 1811009, 1854292, 1896402, 1944825, 2003889, 2043507, 2086016, 2119093, 2166314, 2218416, 2268303, 2316488, 2372397, 2411968, 2458780, 2511762, 2550387, 2575709, 2604527, 2646093, 2699577, 2749551, 2802799, 2853897, 2889905, 2914440, 2939721, 2956484, 2957150, 2955431, 2965821, 2982789, 2998824, 3014962, 3048993, 3084036, 3110802, 3137744, 3161218, 3181371, 3201395, 3221098, 3241190, 3260659, 3279554, 3297840, 3316059, 3333867, 3351315, 3368798, 3385745, 3402674, 3418887, 3434157, 3449402, 3464316, 3478100, 3491495, 3504411, 3516426, 3528129, 3538940, 3549506, 3558718, 3567240, 3575478, 3582907, 3589611, 3595775, 3601365, 3605763, 3610153, 3613696, 3616582], [461597, 477908, 490112, 504412, 519985, 534498, 550788, 578902, 611600, 638986, 669777, 696707, 725589, 755300, 793189, 836398, 888587, 949698, 1018007, 1096498, 1188268, 1254662, 1296441, 1328318, 1352137, 1378777, 1404924, 1436280, 1466539, 1514582, 1557275, 1622449, 1688411, 1772431, 1856880, 1934728, 2017353, 2082656, 2122921, 2158392, 2196137, 2228044, 2253317, 2276765, 2305796, 2329256, 2360727, 2395487, 2431703, 2468955, 2506739, 2544330, 2581886, 2619077, 2655735, 2692006, 2727695, 2762494, 2796462, 2830094, 2863260, 2896152, 2928223, 2960057, 2991072, 3021572, 3052045, 3081413, 3110168, 3138052, 3165363, 3192243, 3217991, 3243246, 3268231, 3292187, 3316047, 3339260, 3362084, 3384122, 3406136], [1367158, 1382516, 1429089, 1480804, 1521397, 1594120, 1654295, 1711298, 1773195, 1831291, 1873285, 1921794, 1965076, 2003516, 2055711, 2109349, 2182931, 2260727, 2341011, 2432807, 2504908, 2554583, 2590269, 2597877, 2610983, 2615187, 2627025, 2679958, 2725710, 2776350, 2828374, 2870097, 2910443, 2943953, 2963392, 2970128, 2982816, 3014169, 3051260, 3077626, 3100529, 3135806, 3174446, 3208946, 3248547, 3275084, 3300891, 3327562, 3353609, 3379796, 3406126, 3431804, 3456960, 3481627, 3505661, 3529054, 3551839, 3574309, 3596486, 3617649, 3638609, 3658764, 3678848, 3698819, 3718005, 3737507, 3756811, 3775648, 3794084, 3812072, 3830210, 3848061, 3865637, 3882919, 3899721, 3916308, 3933213, 3950022, 3966050, 3981636, 3997108], [713186, 712498, 705695, 704801, 699796, 695407, 689579, 683690, 681894, 678091, 680498, 686797, 695216, 704192, 713016, 727501, 737510, 735895, 730103, 724502, 723168, 725860, 731038, 742228, 743333, 739865, 744072, 749422, 758210, 766465, 778943, 782223, 783252, 781873, 780695, 779653, 782931, 791330, 798669, 801800, 809174, 819897, 832605, 843735, 853732, 863108, 871185, 879517, 887916, 896411, 904736, 913169, 921659, 929624, 937668, 945660, 953213, 960498, 967515, 974762, 981738, 988581, 995430, 1002079, 1008715, 1015352, 1021834, 1028560, 1034969, 1041448, 1047902, 1054552, 1061091, 1067823, 1074591, 1081493, 1088445, 1095477, 1102684, 1110276, 1117661]]\n"
     ]
    }
   ],
   "source": [
    "print(fip_array)\n",
    "print(year_array)\n",
    "print(pop_array)"
   ]
  },
  {
   "cell_type": "markdown",
   "metadata": {},
   "source": [
    "Now I need to save each sub-array above as new individual arrays according to which county they refer to."
   ]
  },
  {
   "cell_type": "code",
   "execution_count": 20,
   "metadata": {
    "collapsed": true
   },
   "outputs": [],
   "source": [
    "LOSANGELES = np.array(pop_array[0])\n",
    "ORANGE = np.array(pop_array[1])\n",
    "RIVERSIDE = np.array(pop_array[2])\n",
    "SANDIEGO = np.array(pop_array[3])\n",
    "SANFRANCISCO = np.array(pop_array[4])"
   ]
  },
  {
   "cell_type": "markdown",
   "metadata": {},
   "source": [
    "I used the county names to name the arrays, in order to help identify which is which.\n",
    "\n",
    "I only need to store the overall populations for each county in these arrays, as they will all share the same years in common. I can use the years array that I used for the first graph."
   ]
  },
  {
   "cell_type": "code",
   "execution_count": 21,
   "metadata": {},
   "outputs": [
    {
     "name": "stdout",
     "output_type": "stream",
     "text": [
      "[ 7055793  7092010  7072098  7084804  7124499  7191294  7243389  7258199\n",
      "  7338595  7389594  7500308  7607117  7766309  7921906  8044402  8190891\n",
      "  8373119  8527394  8639399  8768685  8860302  8955322  9060253  9083688\n",
      "  9106495  9101127  9108069  9185566  9265805  9394314  9543982  9635792\n",
      "  9722446  9791019  9822509  9809558  9787329  9773899  9796809  9805233\n",
      "  9837011  9900858  9988287 10055477 10124684 10185487 10229245 10288515\n",
      " 10344538 10398558 10451759 10502215 10551604 10598699 10644569 10688523\n",
      " 10730832 10771243 10810932 10848947 10885337 10920165 10953322 10984977\n",
      " 11014656 11042709 11070046 11095826 11119279 11141094 11161569 11179574\n",
      " 11197218 11212616 11225825 11238210 11247693 11257101 11264455 11269849\n",
      " 11274596]\n"
     ]
    }
   ],
   "source": [
    "print(LOSANGELES)"
   ]
  },
  {
   "cell_type": "markdown",
   "metadata": {},
   "source": [
    "### Analysis and Interpretation:2"
   ]
  },
  {
   "cell_type": "code",
   "execution_count": 22,
   "metadata": {},
   "outputs": [
    {
     "data": {
      "image/png": "[encoded data removed]",
      "text/plain": [
       "<matplotlib.figure.Figure at 0x202ab867ba8>"
      ]
     },
     "metadata": {},
     "output_type": "display_data"
    }
   ],
   "source": [
    "plt.plot(years,LOSANGELES,color='red')\n",
    "plt.plot(years,ORANGE,color='orange')\n",
    "plt.plot(years,RIVERSIDE,color='green')\n",
    "plt.plot(years,SANDIEGO,color='blue')\n",
    "plt.plot(years,SANFRANCISCO,color='yellow')\n",
    "plt.gca().legend(('Los Angeles','Orange','Riverside','San Diego','San Franisco'))\n",
    "plt.xlabel('Years')\n",
    "plt.ylabel('Population (in 10s of Millions)')\n",
    "plt.title('California Counties Population Projection')\n",
    "plt.show()"
   ]
  },
  {
   "cell_type": "markdown",
   "metadata": {},
   "source": [
    "Analysis: Los Angeles will remain California's most populated county in the future. Althogh Riverside will see the biggest change in population between the year 1970 and 2050.\n",
    "\n",
    "I was suprised to how little San Fransico's population is projected to change, considering it is home to the worlds biggest tech industry Silicone Valley."
   ]
  },
  {
   "cell_type": "markdown",
   "metadata": {},
   "source": [
    "#### Population Lifespan"
   ]
  },
  {
   "cell_type": "markdown",
   "metadata": {},
   "source": [
    "Next up, I wanted to see how the lifespan of the population will change."
   ]
  },
  {
   "cell_type": "markdown",
   "metadata": {},
   "source": [
    "In order to display the information more effectively, I have decided to group the ages into age groups."
   ]
  },
  {
   "cell_type": "code",
   "execution_count": 23,
   "metadata": {
    "collapsed": true
   },
   "outputs": [],
   "source": [
    "age_group = [\"0-04\",\"05-09\",\"10-14\",\"15-19\",\"20-24\",\"25-29\",\"30-34\",\"35-39\",\"40-44\",\"45-49\",\n",
    "             \"50-54\",\"55-59\",\"60-64\",\"65-69\",\"70-74\",\"75-79\",\"80-84\",\"85-89\",\"90-94\",\"95-99\",\">99\"]"
   ]
  },
  {
   "cell_type": "markdown",
   "metadata": {},
   "source": [
    "I will only foucus on 3 years 1970, 2018 and 2050"
   ]
  },
  {
   "cell_type": "code",
   "execution_count": 24,
   "metadata": {
    "collapsed": true
   },
   "outputs": [],
   "source": [
    "df1 = df[df['year'] == 1970].copy()"
   ]
  },
  {
   "cell_type": "code",
   "execution_count": 25,
   "metadata": {
    "collapsed": true
   },
   "outputs": [],
   "source": [
    "df2 = df[df['year'] == 2018].copy()"
   ]
  },
  {
   "cell_type": "code",
   "execution_count": 26,
   "metadata": {
    "collapsed": true
   },
   "outputs": [],
   "source": [
    "df3 = df[df['year'] == 2050].copy()"
   ]
  },
  {
   "cell_type": "code",
   "execution_count": 27,
   "metadata": {},
   "outputs": [
    {
     "data": {
      "text/html": [
       "<div>\n",
       "<style>\n",
       "    .dataframe thead tr:only-child th {\n",
       "        text-align: right;\n",
       "    }\n",
       "\n",
       "    .dataframe thead th {\n",
       "        text-align: left;\n",
       "    }\n",
       "\n",
       "    .dataframe tbody tr th {\n",
       "        vertical-align: top;\n",
       "    }\n",
       "</style>\n",
       "<table border=\"1\" class=\"dataframe\">\n",
       "  <thead>\n",
       "    <tr style=\"text-align: right;\">\n",
       "      <th></th>\n",
       "      <th>fips</th>\n",
       "      <th>county</th>\n",
       "      <th>year</th>\n",
       "      <th>age</th>\n",
       "      <th>pop_female</th>\n",
       "      <th>pop_male</th>\n",
       "      <th>pop_total</th>\n",
       "    </tr>\n",
       "  </thead>\n",
       "  <tbody>\n",
       "    <tr>\n",
       "      <th>0</th>\n",
       "      <td>6001</td>\n",
       "      <td>ALAMEDA</td>\n",
       "      <td>1970</td>\n",
       "      <td>0</td>\n",
       "      <td>8533</td>\n",
       "      <td>8671</td>\n",
       "      <td>17204</td>\n",
       "    </tr>\n",
       "    <tr>\n",
       "      <th>1</th>\n",
       "      <td>6001</td>\n",
       "      <td>ALAMEDA</td>\n",
       "      <td>1970</td>\n",
       "      <td>1</td>\n",
       "      <td>8151</td>\n",
       "      <td>8252</td>\n",
       "      <td>16403</td>\n",
       "    </tr>\n",
       "    <tr>\n",
       "      <th>2</th>\n",
       "      <td>6001</td>\n",
       "      <td>ALAMEDA</td>\n",
       "      <td>1970</td>\n",
       "      <td>2</td>\n",
       "      <td>7753</td>\n",
       "      <td>8015</td>\n",
       "      <td>15768</td>\n",
       "    </tr>\n",
       "    <tr>\n",
       "      <th>3</th>\n",
       "      <td>6001</td>\n",
       "      <td>ALAMEDA</td>\n",
       "      <td>1970</td>\n",
       "      <td>3</td>\n",
       "      <td>8018</td>\n",
       "      <td>8412</td>\n",
       "      <td>16430</td>\n",
       "    </tr>\n",
       "    <tr>\n",
       "      <th>4</th>\n",
       "      <td>6001</td>\n",
       "      <td>ALAMEDA</td>\n",
       "      <td>1970</td>\n",
       "      <td>4</td>\n",
       "      <td>8551</td>\n",
       "      <td>8648</td>\n",
       "      <td>17199</td>\n",
       "    </tr>\n",
       "  </tbody>\n",
       "</table>\n",
       "</div>"
      ],
      "text/plain": [
       "   fips   county  year  age  pop_female  pop_male  pop_total\n",
       "0  6001  ALAMEDA  1970    0        8533      8671      17204\n",
       "1  6001  ALAMEDA  1970    1        8151      8252      16403\n",
       "2  6001  ALAMEDA  1970    2        7753      8015      15768\n",
       "3  6001  ALAMEDA  1970    3        8018      8412      16430\n",
       "4  6001  ALAMEDA  1970    4        8551      8648      17199"
      ]
     },
     "execution_count": 27,
     "metadata": {},
     "output_type": "execute_result"
    }
   ],
   "source": [
    "df1.head(5)"
   ]
  },
  {
   "cell_type": "code",
   "execution_count": 28,
   "metadata": {},
   "outputs": [
    {
     "data": {
      "text/plain": [
       "array([  0,   1,   2,   3,   4,   5,   6,   7,   8,   9,  10,  11,  12,\n",
       "        13,  14,  15,  16,  17,  18,  19,  20,  21,  22,  23,  24,  25,\n",
       "        26,  27,  28,  29,  30,  31,  32,  33,  34,  35,  36,  37,  38,\n",
       "        39,  40,  41,  42,  43,  44,  45,  46,  47,  48,  49,  50,  51,\n",
       "        52,  53,  54,  55,  56,  57,  58,  59,  60,  61,  62,  63,  64,\n",
       "        65,  66,  67,  68,  69,  70,  71,  72,  73,  74,  75,  76,  77,\n",
       "        78,  79,  80,  81,  82,  83,  84,  85,  86,  87,  88,  89,  90,\n",
       "        91,  92,  93,  94,  95,  96,  97,  98,  99, 100], dtype=int64)"
      ]
     },
     "execution_count": 28,
     "metadata": {},
     "output_type": "execute_result"
    }
   ],
   "source": [
    "df1[\"age\"].unique()"
   ]
  },
  {
   "cell_type": "markdown",
   "metadata": {},
   "source": [
    "Next I need to sort the data into their correct age groups. I thought it would be best to sort the 3 different years att once as it would ensure that data was handled in the exact same way, in order to prevent errors."
   ]
  },
  {
   "cell_type": "code",
   "execution_count": 29,
   "metadata": {
    "collapsed": true
   },
   "outputs": [],
   "source": [
    "female_pop_1970 = []\n",
    "male_pop_1970 = []\n",
    "total_pop_1970 = []\n",
    "female_pop_2018 = []\n",
    "male_pop_2018 = []\n",
    "total_pop_2018 = []\n",
    "female_pop_2050 = []\n",
    "male_pop_2050 = []\n",
    "total_pop_2050 = []\n",
    "\n",
    "age = 0\n",
    "fpop1 = 0\n",
    "mpop1 = 0\n",
    "tpop1 = 0\n",
    "fpop2 = 0\n",
    "mpop2 = 0\n",
    "tpop2 = 0\n",
    "fpop3 = 0\n",
    "mpop3 = 0\n",
    "tpop3 = 0\n",
    "\n",
    "\n",
    "while(age < 5):\n",
    "        fpop1 += df1.loc[df1['age'] == age, 'pop_female'].sum()\n",
    "        mpop1 += df1.loc[df1['age'] == age, 'pop_male'].sum()\n",
    "        tpop1 += df1.loc[df1['age'] == age, 'pop_total'].sum()\n",
    "        fpop2 += df2.loc[df2['age'] == age, 'pop_female'].sum()\n",
    "        mpop2 += df2.loc[df2['age'] == age, 'pop_male'].sum()\n",
    "        tpop2 += df2.loc[df2['age'] == age, 'pop_total'].sum()\n",
    "        fpop3 += df3.loc[df3['age'] == age, 'pop_female'].sum()\n",
    "        mpop3 += df3.loc[df3['age'] == age, 'pop_male'].sum()\n",
    "        tpop3 += df3.loc[df3['age'] == age, 'pop_total'].sum()\n",
    "        age += 1\n",
    "\n",
    "female_pop_1970.append(fpop1)\n",
    "male_pop_1970.append(mpop1)\n",
    "total_pop_1970.append(tpop1)\n",
    "female_pop_2018.append(fpop2)\n",
    "male_pop_2018.append(mpop2)\n",
    "total_pop_2018.append(tpop2)\n",
    "female_pop_2050.append(fpop3)\n",
    "male_pop_2050.append(mpop3)\n",
    "total_pop_2050.append(tpop3)\n",
    "if age == 5:\n",
    "    fpop1 = 0\n",
    "    mpop1 = 0\n",
    "    tpop1 = 0\n",
    "    fpop2 = 0\n",
    "    mpop2 = 0\n",
    "    tpop2 = 0\n",
    "    fpop3 = 0\n",
    "    mpop3 = 0\n",
    "    tpop3 = 0\n",
    "\n",
    "while(age < 10):\n",
    "        fpop1 += df1.loc[df1['age'] == age, 'pop_female'].sum()\n",
    "        mpop1 += df1.loc[df1['age'] == age, 'pop_male'].sum()\n",
    "        tpop1 += df1.loc[df1['age'] == age, 'pop_total'].sum()\n",
    "        fpop2 += df2.loc[df2['age'] == age, 'pop_female'].sum()\n",
    "        mpop2 += df2.loc[df2['age'] == age, 'pop_male'].sum()\n",
    "        tpop2 += df2.loc[df2['age'] == age, 'pop_total'].sum()\n",
    "        fpop3 += df3.loc[df3['age'] == age, 'pop_female'].sum()\n",
    "        mpop3 += df3.loc[df3['age'] == age, 'pop_male'].sum()\n",
    "        tpop3 += df3.loc[df3['age'] == age, 'pop_total'].sum()\n",
    "        age += 1\n",
    "    \n",
    "female_pop_1970.append(fpop1)\n",
    "male_pop_1970.append(mpop1)\n",
    "total_pop_1970.append(tpop1)\n",
    "female_pop_2018.append(fpop2)\n",
    "male_pop_2018.append(mpop2)\n",
    "total_pop_2018.append(tpop2)\n",
    "female_pop_2050.append(fpop3)\n",
    "male_pop_2050.append(mpop3)\n",
    "total_pop_2050.append(tpop3)\n",
    "if age == 10:\n",
    "    fpop1 = 0\n",
    "    mpop1 = 0\n",
    "    tpop1 = 0\n",
    "    fpop2 = 0\n",
    "    mpop2 = 0\n",
    "    tpop2 = 0\n",
    "    fpop3 = 0\n",
    "    mpop3 = 0\n",
    "    tpop3 = 0\n",
    "    \n",
    "\n",
    "while(age < 15):\n",
    "        fpop1 += df1.loc[df1['age'] == age, 'pop_female'].sum()\n",
    "        mpop1 += df1.loc[df1['age'] == age, 'pop_male'].sum()\n",
    "        tpop1 += df1.loc[df1['age'] == age, 'pop_total'].sum()\n",
    "        fpop2 += df2.loc[df2['age'] == age, 'pop_female'].sum()\n",
    "        mpop2 += df2.loc[df2['age'] == age, 'pop_male'].sum()\n",
    "        tpop2 += df2.loc[df2['age'] == age, 'pop_total'].sum()\n",
    "        fpop3 += df3.loc[df3['age'] == age, 'pop_female'].sum()\n",
    "        mpop3 += df3.loc[df3['age'] == age, 'pop_male'].sum()\n",
    "        tpop3 += df3.loc[df3['age'] == age, 'pop_total'].sum()\n",
    "        age += 1\n",
    "    \n",
    "female_pop_1970.append(fpop1)\n",
    "male_pop_1970.append(mpop1)\n",
    "total_pop_1970.append(tpop1)\n",
    "female_pop_2018.append(fpop2)\n",
    "male_pop_2018.append(mpop2)\n",
    "total_pop_2018.append(tpop2)\n",
    "female_pop_2050.append(fpop3)\n",
    "male_pop_2050.append(mpop3)\n",
    "total_pop_2050.append(tpop3)\n",
    "if age == 15:\n",
    "    fpop1 = 0\n",
    "    mpop1 = 0\n",
    "    tpop1 = 0\n",
    "    fpop2 = 0\n",
    "    mpop2 = 0\n",
    "    tpop2 = 0\n",
    "    fpop3 = 0\n",
    "    mpop3 = 0\n",
    "    tpop3 = 0\n",
    "\n",
    "    \n",
    "while(age < 20):\n",
    "        fpop1 += df1.loc[df1['age'] == age, 'pop_female'].sum()\n",
    "        mpop1 += df1.loc[df1['age'] == age, 'pop_male'].sum()\n",
    "        tpop1 += df1.loc[df1['age'] == age, 'pop_total'].sum()\n",
    "        fpop2 += df2.loc[df2['age'] == age, 'pop_female'].sum()\n",
    "        mpop2 += df2.loc[df2['age'] == age, 'pop_male'].sum()\n",
    "        tpop2 += df2.loc[df2['age'] == age, 'pop_total'].sum()\n",
    "        fpop3 += df3.loc[df3['age'] == age, 'pop_female'].sum()\n",
    "        mpop3 += df3.loc[df3['age'] == age, 'pop_male'].sum()\n",
    "        tpop3 += df3.loc[df3['age'] == age, 'pop_total'].sum()\n",
    "        age += 1\n",
    "    \n",
    "female_pop_1970.append(fpop1)\n",
    "male_pop_1970.append(mpop1)\n",
    "total_pop_1970.append(tpop1)\n",
    "female_pop_2018.append(fpop2)\n",
    "male_pop_2018.append(mpop2)\n",
    "total_pop_2018.append(tpop2)\n",
    "female_pop_2050.append(fpop3)\n",
    "male_pop_2050.append(mpop3)\n",
    "total_pop_2050.append(tpop3)\n",
    "if age == 20:\n",
    "    fpop1 = 0\n",
    "    mpop1 = 0\n",
    "    tpop1 = 0\n",
    "    fpop2 = 0\n",
    "    mpop2 = 0\n",
    "    tpop2 = 0\n",
    "    fpop3 = 0\n",
    "    mpop3 = 0\n",
    "    tpop3 = 0\n",
    "\n",
    "while(age < 25):\n",
    "        fpop1 += df1.loc[df1['age'] == age, 'pop_female'].sum()\n",
    "        mpop1 += df1.loc[df1['age'] == age, 'pop_male'].sum()\n",
    "        tpop1 += df1.loc[df1['age'] == age, 'pop_total'].sum()\n",
    "        fpop2 += df2.loc[df2['age'] == age, 'pop_female'].sum()\n",
    "        mpop2 += df2.loc[df2['age'] == age, 'pop_male'].sum()\n",
    "        tpop2 += df2.loc[df2['age'] == age, 'pop_total'].sum()\n",
    "        fpop3 += df3.loc[df3['age'] == age, 'pop_female'].sum()\n",
    "        mpop3 += df3.loc[df3['age'] == age, 'pop_male'].sum()\n",
    "        tpop3 += df3.loc[df3['age'] == age, 'pop_total'].sum()\n",
    "        age += 1\n",
    "    \n",
    "female_pop_1970.append(fpop1)\n",
    "male_pop_1970.append(mpop1)\n",
    "total_pop_1970.append(tpop1)\n",
    "female_pop_2018.append(fpop2)\n",
    "male_pop_2018.append(mpop2)\n",
    "total_pop_2018.append(tpop2)\n",
    "female_pop_2050.append(fpop3)\n",
    "male_pop_2050.append(mpop3)\n",
    "total_pop_2050.append(tpop3)\n",
    "if age == 25:\n",
    "    fpop1 = 0\n",
    "    mpop1 = 0\n",
    "    tpop1 = 0\n",
    "    fpop2 = 0\n",
    "    mpop2 = 0\n",
    "    tpop2 = 0\n",
    "    fpop3 = 0\n",
    "    mpop3 = 0\n",
    "    tpop3 = 0\n",
    "\n",
    "    \n",
    "while(age < 30):\n",
    "        fpop1 += df1.loc[df1['age'] == age, 'pop_female'].sum()\n",
    "        mpop1 += df1.loc[df1['age'] == age, 'pop_male'].sum()\n",
    "        tpop1 += df1.loc[df1['age'] == age, 'pop_total'].sum()\n",
    "        fpop2 += df2.loc[df2['age'] == age, 'pop_female'].sum()\n",
    "        mpop2 += df2.loc[df2['age'] == age, 'pop_male'].sum()\n",
    "        tpop2 += df2.loc[df2['age'] == age, 'pop_total'].sum()\n",
    "        fpop3 += df3.loc[df3['age'] == age, 'pop_female'].sum()\n",
    "        mpop3 += df3.loc[df3['age'] == age, 'pop_male'].sum()\n",
    "        tpop3 += df3.loc[df3['age'] == age, 'pop_total'].sum()\n",
    "        age += 1\n",
    "    \n",
    "female_pop_1970.append(fpop1)\n",
    "male_pop_1970.append(mpop1)\n",
    "total_pop_1970.append(tpop1)\n",
    "female_pop_2018.append(fpop2)\n",
    "male_pop_2018.append(mpop2)\n",
    "total_pop_2018.append(tpop2)\n",
    "female_pop_2050.append(fpop3)\n",
    "male_pop_2050.append(mpop3)\n",
    "total_pop_2050.append(tpop3)\n",
    "if age == 30:\n",
    "    fpop1 = 0\n",
    "    mpop1 = 0\n",
    "    tpop1 = 0\n",
    "    fpop2 = 0\n",
    "    mpop2 = 0\n",
    "    tpop2 = 0\n",
    "    fpop3 = 0\n",
    "    mpop3 = 0\n",
    "    tpop3 = 0\n",
    "    \n",
    "while(age < 35):\n",
    "        fpop1 += df1.loc[df1['age'] == age, 'pop_female'].sum()\n",
    "        mpop1 += df1.loc[df1['age'] == age, 'pop_male'].sum()\n",
    "        tpop1 += df1.loc[df1['age'] == age, 'pop_total'].sum()\n",
    "        fpop2 += df2.loc[df2['age'] == age, 'pop_female'].sum()\n",
    "        mpop2 += df2.loc[df2['age'] == age, 'pop_male'].sum()\n",
    "        tpop2 += df2.loc[df2['age'] == age, 'pop_total'].sum()\n",
    "        fpop3 += df3.loc[df3['age'] == age, 'pop_female'].sum()\n",
    "        mpop3 += df3.loc[df3['age'] == age, 'pop_male'].sum()\n",
    "        tpop3 += df3.loc[df3['age'] == age, 'pop_total'].sum()\n",
    "        age += 1\n",
    "    \n",
    "female_pop_1970.append(fpop1)\n",
    "male_pop_1970.append(mpop1)\n",
    "total_pop_1970.append(tpop1)\n",
    "female_pop_2018.append(fpop2)\n",
    "male_pop_2018.append(mpop2)\n",
    "total_pop_2018.append(tpop2)\n",
    "female_pop_2050.append(fpop3)\n",
    "male_pop_2050.append(mpop3)\n",
    "total_pop_2050.append(tpop3)\n",
    "if age == 35:\n",
    "    fpop1 = 0\n",
    "    mpop1 = 0\n",
    "    tpop1 = 0\n",
    "    fpop2 = 0\n",
    "    mpop2 = 0\n",
    "    tpop2 = 0\n",
    "    fpop3 = 0\n",
    "    mpop3 = 0\n",
    "    tpop3 = 0\n",
    "\n",
    "while(age < 40):\n",
    "        fpop1 += df1.loc[df1['age'] == age, 'pop_female'].sum()\n",
    "        mpop1 += df1.loc[df1['age'] == age, 'pop_male'].sum()\n",
    "        tpop1 += df1.loc[df1['age'] == age, 'pop_total'].sum()\n",
    "        fpop2 += df2.loc[df2['age'] == age, 'pop_female'].sum()\n",
    "        mpop2 += df2.loc[df2['age'] == age, 'pop_male'].sum()\n",
    "        tpop2 += df2.loc[df2['age'] == age, 'pop_total'].sum()\n",
    "        fpop3 += df3.loc[df3['age'] == age, 'pop_female'].sum()\n",
    "        mpop3 += df3.loc[df3['age'] == age, 'pop_male'].sum()\n",
    "        tpop3 += df3.loc[df3['age'] == age, 'pop_total'].sum()\n",
    "        age += 1\n",
    "    \n",
    "female_pop_1970.append(fpop1)\n",
    "male_pop_1970.append(mpop1)\n",
    "total_pop_1970.append(tpop1)\n",
    "female_pop_2018.append(fpop2)\n",
    "male_pop_2018.append(mpop2)\n",
    "total_pop_2018.append(tpop2)\n",
    "female_pop_2050.append(fpop3)\n",
    "male_pop_2050.append(mpop3)\n",
    "total_pop_2050.append(tpop3)\n",
    "if age == 40:\n",
    "    fpop1 = 0\n",
    "    mpop1 = 0\n",
    "    tpop1 = 0\n",
    "    fpop2 = 0\n",
    "    mpop2 = 0\n",
    "    tpop2 = 0\n",
    "    fpop3 = 0\n",
    "    mpop3 = 0\n",
    "    tpop3 = 0\n",
    "    \n",
    "while(age < 45):\n",
    "        fpop1 += df1.loc[df1['age'] == age, 'pop_female'].sum()\n",
    "        mpop1 += df1.loc[df1['age'] == age, 'pop_male'].sum()\n",
    "        tpop1 += df1.loc[df1['age'] == age, 'pop_total'].sum()\n",
    "        fpop2 += df2.loc[df2['age'] == age, 'pop_female'].sum()\n",
    "        mpop2 += df2.loc[df2['age'] == age, 'pop_male'].sum()\n",
    "        tpop2 += df2.loc[df2['age'] == age, 'pop_total'].sum()\n",
    "        fpop3 += df3.loc[df3['age'] == age, 'pop_female'].sum()\n",
    "        mpop3 += df3.loc[df3['age'] == age, 'pop_male'].sum()\n",
    "        tpop3 += df3.loc[df3['age'] == age, 'pop_total'].sum()\n",
    "        age += 1\n",
    "    \n",
    "female_pop_1970.append(fpop1)\n",
    "male_pop_1970.append(mpop1)\n",
    "total_pop_1970.append(tpop1)\n",
    "female_pop_2018.append(fpop2)\n",
    "male_pop_2018.append(mpop2)\n",
    "total_pop_2018.append(tpop2)\n",
    "female_pop_2050.append(fpop3)\n",
    "male_pop_2050.append(mpop3)\n",
    "total_pop_2050.append(tpop3)\n",
    "if age == 45:\n",
    "    fpop1 = 0\n",
    "    mpop1 = 0\n",
    "    tpop1 = 0\n",
    "    fpop2 = 0\n",
    "    mpop2 = 0\n",
    "    tpop2 = 0\n",
    "    fpop3 = 0\n",
    "    mpop3 = 0\n",
    "    tpop3 = 0\n",
    "    \n",
    "while(age < 50):\n",
    "        fpop1 += df1.loc[df1['age'] == age, 'pop_female'].sum()\n",
    "        mpop1 += df1.loc[df1['age'] == age, 'pop_male'].sum()\n",
    "        tpop1 += df1.loc[df1['age'] == age, 'pop_total'].sum()\n",
    "        fpop2 += df2.loc[df2['age'] == age, 'pop_female'].sum()\n",
    "        mpop2 += df2.loc[df2['age'] == age, 'pop_male'].sum()\n",
    "        tpop2 += df2.loc[df2['age'] == age, 'pop_total'].sum()\n",
    "        fpop3 += df3.loc[df3['age'] == age, 'pop_female'].sum()\n",
    "        mpop3 += df3.loc[df3['age'] == age, 'pop_male'].sum()\n",
    "        tpop3 += df3.loc[df3['age'] == age, 'pop_total'].sum()\n",
    "        age += 1\n",
    "    \n",
    "female_pop_1970.append(fpop1)\n",
    "male_pop_1970.append(mpop1)\n",
    "total_pop_1970.append(tpop1)\n",
    "female_pop_2018.append(fpop2)\n",
    "male_pop_2018.append(mpop2)\n",
    "total_pop_2018.append(tpop2)\n",
    "female_pop_2050.append(fpop3)\n",
    "male_pop_2050.append(mpop3)\n",
    "total_pop_2050.append(tpop3)\n",
    "if age == 50:\n",
    "    fpop1 = 0\n",
    "    mpop1 = 0\n",
    "    tpop1 = 0\n",
    "    fpop2 = 0\n",
    "    mpop2 = 0\n",
    "    tpop2 = 0\n",
    "    fpop3 = 0\n",
    "    mpop3 = 0\n",
    "    tpop3 = 0\n",
    "    \n",
    "while(age < 55):\n",
    "        fpop1 += df1.loc[df1['age'] == age, 'pop_female'].sum()\n",
    "        mpop1 += df1.loc[df1['age'] == age, 'pop_male'].sum()\n",
    "        tpop1 += df1.loc[df1['age'] == age, 'pop_total'].sum()\n",
    "        fpop2 += df2.loc[df2['age'] == age, 'pop_female'].sum()\n",
    "        mpop2 += df2.loc[df2['age'] == age, 'pop_male'].sum()\n",
    "        tpop2 += df2.loc[df2['age'] == age, 'pop_total'].sum()\n",
    "        fpop3 += df3.loc[df3['age'] == age, 'pop_female'].sum()\n",
    "        mpop3 += df3.loc[df3['age'] == age, 'pop_male'].sum()\n",
    "        tpop3 += df3.loc[df3['age'] == age, 'pop_total'].sum()\n",
    "        age += 1\n",
    "    \n",
    "female_pop_1970.append(fpop1)\n",
    "male_pop_1970.append(mpop1)\n",
    "total_pop_1970.append(tpop1)\n",
    "female_pop_2018.append(fpop2)\n",
    "male_pop_2018.append(mpop2)\n",
    "total_pop_2018.append(tpop2)\n",
    "female_pop_2050.append(fpop3)\n",
    "male_pop_2050.append(mpop3)\n",
    "total_pop_2050.append(tpop3)\n",
    "if age == 55:\n",
    "    fpop1 = 0\n",
    "    mpop1 = 0\n",
    "    tpop1 = 0\n",
    "    fpop2 = 0\n",
    "    mpop2 = 0\n",
    "    tpop2 = 0\n",
    "    fpop3 = 0\n",
    "    mpop3 = 0\n",
    "    tpop3 = 0\n",
    "    \n",
    "while(age < 60):\n",
    "        fpop1 += df1.loc[df1['age'] == age, 'pop_female'].sum()\n",
    "        mpop1 += df1.loc[df1['age'] == age, 'pop_male'].sum()\n",
    "        tpop1 += df1.loc[df1['age'] == age, 'pop_total'].sum()\n",
    "        fpop2 += df2.loc[df2['age'] == age, 'pop_female'].sum()\n",
    "        mpop2 += df2.loc[df2['age'] == age, 'pop_male'].sum()\n",
    "        tpop2 += df2.loc[df2['age'] == age, 'pop_total'].sum()\n",
    "        fpop3 += df3.loc[df3['age'] == age, 'pop_female'].sum()\n",
    "        mpop3 += df3.loc[df3['age'] == age, 'pop_male'].sum()\n",
    "        tpop3 += df3.loc[df3['age'] == age, 'pop_total'].sum()\n",
    "        age += 1\n",
    "    \n",
    "female_pop_1970.append(fpop1)\n",
    "male_pop_1970.append(mpop1)\n",
    "total_pop_1970.append(tpop1)\n",
    "female_pop_2018.append(fpop2)\n",
    "male_pop_2018.append(mpop2)\n",
    "total_pop_2018.append(tpop2)\n",
    "female_pop_2050.append(fpop3)\n",
    "male_pop_2050.append(mpop3)\n",
    "total_pop_2050.append(tpop3)\n",
    "if age == 60:\n",
    "    fpop1 = 0\n",
    "    mpop1 = 0\n",
    "    tpop1 = 0\n",
    "    fpop2 = 0\n",
    "    mpop2 = 0\n",
    "    tpop2 = 0\n",
    "    fpop3 = 0\n",
    "    mpop3 = 0\n",
    "    tpop3 = 0\n",
    "    \n",
    "while(age < 65):\n",
    "        fpop1 += df1.loc[df1['age'] == age, 'pop_female'].sum()\n",
    "        mpop1 += df1.loc[df1['age'] == age, 'pop_male'].sum()\n",
    "        tpop1 += df1.loc[df1['age'] == age, 'pop_total'].sum()\n",
    "        fpop2 += df2.loc[df2['age'] == age, 'pop_female'].sum()\n",
    "        mpop2 += df2.loc[df2['age'] == age, 'pop_male'].sum()\n",
    "        tpop2 += df2.loc[df2['age'] == age, 'pop_total'].sum()\n",
    "        fpop3 += df3.loc[df3['age'] == age, 'pop_female'].sum()\n",
    "        mpop3 += df3.loc[df3['age'] == age, 'pop_male'].sum()\n",
    "        tpop3 += df3.loc[df3['age'] == age, 'pop_total'].sum()\n",
    "        age += 1\n",
    "    \n",
    "female_pop_1970.append(fpop1)\n",
    "male_pop_1970.append(mpop1)\n",
    "total_pop_1970.append(tpop1)\n",
    "female_pop_2018.append(fpop2)\n",
    "male_pop_2018.append(mpop2)\n",
    "total_pop_2018.append(tpop2)\n",
    "female_pop_2050.append(fpop3)\n",
    "male_pop_2050.append(mpop3)\n",
    "total_pop_2050.append(tpop3)\n",
    "if age == 65:\n",
    "    fpop1 = 0\n",
    "    mpop1 = 0\n",
    "    tpop1 = 0\n",
    "    fpop2 = 0\n",
    "    mpop2 = 0\n",
    "    tpop2 = 0\n",
    "    fpop3 = 0\n",
    "    mpop3 = 0\n",
    "    tpop3 = 0\n",
    "    \n",
    "while(age < 70):\n",
    "        fpop1 += df1.loc[df1['age'] == age, 'pop_female'].sum()\n",
    "        mpop1 += df1.loc[df1['age'] == age, 'pop_male'].sum()\n",
    "        tpop1 += df1.loc[df1['age'] == age, 'pop_total'].sum()\n",
    "        fpop2 += df2.loc[df2['age'] == age, 'pop_female'].sum()\n",
    "        mpop2 += df2.loc[df2['age'] == age, 'pop_male'].sum()\n",
    "        tpop2 += df2.loc[df2['age'] == age, 'pop_total'].sum()\n",
    "        fpop3 += df3.loc[df3['age'] == age, 'pop_female'].sum()\n",
    "        mpop3 += df3.loc[df3['age'] == age, 'pop_male'].sum()\n",
    "        tpop3 += df3.loc[df3['age'] == age, 'pop_total'].sum()\n",
    "        age += 1\n",
    "    \n",
    "female_pop_1970.append(fpop1)\n",
    "male_pop_1970.append(mpop1)\n",
    "total_pop_1970.append(tpop1)\n",
    "female_pop_2018.append(fpop2)\n",
    "male_pop_2018.append(mpop2)\n",
    "total_pop_2018.append(tpop2)\n",
    "female_pop_2050.append(fpop3)\n",
    "male_pop_2050.append(mpop3)\n",
    "total_pop_2050.append(tpop3)\n",
    "if age == 70:\n",
    "    fpop1 = 0\n",
    "    mpop1 = 0\n",
    "    tpop1 = 0\n",
    "    fpop2 = 0\n",
    "    mpop2 = 0\n",
    "    tpop2 = 0\n",
    "    fpop3 = 0\n",
    "    mpop3 = 0\n",
    "    tpop3 = 0\n",
    "    \n",
    "while(age < 75):\n",
    "        fpop1 += df1.loc[df1['age'] == age, 'pop_female'].sum()\n",
    "        mpop1 += df1.loc[df1['age'] == age, 'pop_male'].sum()\n",
    "        tpop1 += df1.loc[df1['age'] == age, 'pop_total'].sum()\n",
    "        fpop2 += df2.loc[df2['age'] == age, 'pop_female'].sum()\n",
    "        mpop2 += df2.loc[df2['age'] == age, 'pop_male'].sum()\n",
    "        tpop2 += df2.loc[df2['age'] == age, 'pop_total'].sum()\n",
    "        fpop3 += df3.loc[df3['age'] == age, 'pop_female'].sum()\n",
    "        mpop3 += df3.loc[df3['age'] == age, 'pop_male'].sum()\n",
    "        tpop3 += df3.loc[df3['age'] == age, 'pop_total'].sum()\n",
    "        age += 1\n",
    "    \n",
    "female_pop_1970.append(fpop1)\n",
    "male_pop_1970.append(mpop1)\n",
    "total_pop_1970.append(tpop1)\n",
    "female_pop_2018.append(fpop2)\n",
    "male_pop_2018.append(mpop2)\n",
    "total_pop_2018.append(tpop2)\n",
    "female_pop_2050.append(fpop3)\n",
    "male_pop_2050.append(mpop3)\n",
    "total_pop_2050.append(tpop3)\n",
    "if age == 75:\n",
    "    fpop1 = 0\n",
    "    mpop1 = 0\n",
    "    tpop1 = 0\n",
    "    fpop2 = 0\n",
    "    mpop2 = 0\n",
    "    tpop2 = 0\n",
    "    fpop3 = 0\n",
    "    mpop3 = 0\n",
    "    tpop3 = 0\n",
    "\n",
    "while(age < 80):\n",
    "        fpop1 += df1.loc[df1['age'] == age, 'pop_female'].sum()\n",
    "        mpop1 += df1.loc[df1['age'] == age, 'pop_male'].sum()\n",
    "        tpop1 += df1.loc[df1['age'] == age, 'pop_total'].sum()\n",
    "        fpop2 += df2.loc[df2['age'] == age, 'pop_female'].sum()\n",
    "        mpop2 += df2.loc[df2['age'] == age, 'pop_male'].sum()\n",
    "        tpop2 += df2.loc[df2['age'] == age, 'pop_total'].sum()\n",
    "        fpop3 += df3.loc[df3['age'] == age, 'pop_female'].sum()\n",
    "        mpop3 += df3.loc[df3['age'] == age, 'pop_male'].sum()\n",
    "        tpop3 += df3.loc[df3['age'] == age, 'pop_total'].sum()\n",
    "        age += 1\n",
    "    \n",
    "female_pop_1970.append(fpop1)\n",
    "male_pop_1970.append(mpop1)\n",
    "total_pop_1970.append(tpop1)\n",
    "female_pop_2018.append(fpop2)\n",
    "male_pop_2018.append(mpop2)\n",
    "total_pop_2018.append(tpop2)\n",
    "female_pop_2050.append(fpop3)\n",
    "male_pop_2050.append(mpop3)\n",
    "total_pop_2050.append(tpop3)\n",
    "if age == 80:\n",
    "    fpop1 = 0\n",
    "    mpop1 = 0\n",
    "    tpop1 = 0\n",
    "    fpop2 = 0\n",
    "    mpop2 = 0\n",
    "    tpop2 = 0\n",
    "    fpop3 = 0\n",
    "    mpop3 = 0\n",
    "    tpop3 = 0\n",
    "    \n",
    "while(age < 85):\n",
    "        fpop1 += df1.loc[df1['age'] == age, 'pop_female'].sum()\n",
    "        mpop1 += df1.loc[df1['age'] == age, 'pop_male'].sum()\n",
    "        tpop1 += df1.loc[df1['age'] == age, 'pop_total'].sum()\n",
    "        fpop2 += df2.loc[df2['age'] == age, 'pop_female'].sum()\n",
    "        mpop2 += df2.loc[df2['age'] == age, 'pop_male'].sum()\n",
    "        tpop2 += df2.loc[df2['age'] == age, 'pop_total'].sum()\n",
    "        fpop3 += df3.loc[df3['age'] == age, 'pop_female'].sum()\n",
    "        mpop3 += df3.loc[df3['age'] == age, 'pop_male'].sum()\n",
    "        tpop3 += df3.loc[df3['age'] == age, 'pop_total'].sum()\n",
    "        age += 1\n",
    "    \n",
    "female_pop_1970.append(fpop1)\n",
    "male_pop_1970.append(mpop1)\n",
    "total_pop_1970.append(tpop1)\n",
    "female_pop_2018.append(fpop2)\n",
    "male_pop_2018.append(mpop2)\n",
    "total_pop_2018.append(tpop2)\n",
    "female_pop_2050.append(fpop3)\n",
    "male_pop_2050.append(mpop3)\n",
    "total_pop_2050.append(tpop3)\n",
    "if age == 85:\n",
    "    fpop1 = 0\n",
    "    mpop1 = 0\n",
    "    tpop1 = 0\n",
    "    fpop2 = 0\n",
    "    mpop2 = 0\n",
    "    tpop2 = 0\n",
    "    fpop3 = 0\n",
    "    mpop3 = 0\n",
    "    tpop3 = 0\n",
    "    \n",
    "while(age < 90):\n",
    "        fpop1 += df1.loc[df1['age'] == age, 'pop_female'].sum()\n",
    "        mpop1 += df1.loc[df1['age'] == age, 'pop_male'].sum()\n",
    "        tpop1 += df1.loc[df1['age'] == age, 'pop_total'].sum()\n",
    "        fpop2 += df2.loc[df2['age'] == age, 'pop_female'].sum()\n",
    "        mpop2 += df2.loc[df2['age'] == age, 'pop_male'].sum()\n",
    "        tpop2 += df2.loc[df2['age'] == age, 'pop_total'].sum()\n",
    "        fpop3 += df3.loc[df3['age'] == age, 'pop_female'].sum()\n",
    "        mpop3 += df3.loc[df3['age'] == age, 'pop_male'].sum()\n",
    "        tpop3 += df3.loc[df3['age'] == age, 'pop_total'].sum()\n",
    "        age += 1\n",
    "    \n",
    "female_pop_1970.append(fpop1)\n",
    "male_pop_1970.append(mpop1)\n",
    "total_pop_1970.append(tpop1)\n",
    "female_pop_2018.append(fpop2)\n",
    "male_pop_2018.append(mpop2)\n",
    "total_pop_2018.append(tpop2)\n",
    "female_pop_2050.append(fpop3)\n",
    "male_pop_2050.append(mpop3)\n",
    "total_pop_2050.append(tpop3)\n",
    "if age == 90:\n",
    "    fpop1 = 0\n",
    "    mpop1 = 0\n",
    "    tpop1 = 0\n",
    "    fpop2 = 0\n",
    "    mpop2 = 0\n",
    "    tpop2 = 0\n",
    "    fpop3 = 0\n",
    "    mpop3 = 0\n",
    "    tpop3 = 0\n",
    "        \n",
    "\n",
    "while(age < 95):\n",
    "        fpop1 += df1.loc[df1['age'] == age, 'pop_female'].sum()\n",
    "        mpop1 += df1.loc[df1['age'] == age, 'pop_male'].sum()\n",
    "        tpop1 += df1.loc[df1['age'] == age, 'pop_total'].sum()\n",
    "        fpop2 += df2.loc[df2['age'] == age, 'pop_female'].sum()\n",
    "        mpop2 += df2.loc[df2['age'] == age, 'pop_male'].sum()\n",
    "        tpop2 += df2.loc[df2['age'] == age, 'pop_total'].sum()\n",
    "        fpop3 += df3.loc[df3['age'] == age, 'pop_female'].sum()\n",
    "        mpop3 += df3.loc[df3['age'] == age, 'pop_male'].sum()\n",
    "        tpop3 += df3.loc[df3['age'] == age, 'pop_total'].sum()\n",
    "        age += 1\n",
    "    \n",
    "female_pop_1970.append(fpop1)\n",
    "male_pop_1970.append(mpop1)\n",
    "total_pop_1970.append(tpop1)\n",
    "female_pop_2018.append(fpop2)\n",
    "male_pop_2018.append(mpop2)\n",
    "total_pop_2018.append(tpop2)\n",
    "female_pop_2050.append(fpop3)\n",
    "male_pop_2050.append(mpop3)\n",
    "total_pop_2050.append(tpop3)\n",
    "if age == 95:\n",
    "    fpop1 = 0\n",
    "    mpop1 = 0\n",
    "    tpop1 = 0\n",
    "    fpop2 = 0\n",
    "    mpop2 = 0\n",
    "    tpop2 = 0\n",
    "    fpop3 = 0\n",
    "    mpop3 = 0\n",
    "    tpop3 = 0\n",
    "    \n",
    "while(age < 100):\n",
    "        fpop1 += df1.loc[df1['age'] == age, 'pop_female'].sum()\n",
    "        mpop1 += df1.loc[df1['age'] == age, 'pop_male'].sum()\n",
    "        tpop1 += df1.loc[df1['age'] == age, 'pop_total'].sum()\n",
    "        fpop2 += df2.loc[df2['age'] == age, 'pop_female'].sum()\n",
    "        mpop2 += df2.loc[df2['age'] == age, 'pop_male'].sum()\n",
    "        tpop2 += df2.loc[df2['age'] == age, 'pop_total'].sum()\n",
    "        fpop3 += df3.loc[df3['age'] == age, 'pop_female'].sum()\n",
    "        mpop3 += df3.loc[df3['age'] == age, 'pop_male'].sum()\n",
    "        tpop3 += df3.loc[df3['age'] == age, 'pop_total'].sum()\n",
    "        age += 1\n",
    "    \n",
    "female_pop_1970.append(fpop1)\n",
    "male_pop_1970.append(mpop1)\n",
    "total_pop_1970.append(tpop1)\n",
    "female_pop_2018.append(fpop2)\n",
    "male_pop_2018.append(mpop2)\n",
    "total_pop_2018.append(tpop2)\n",
    "female_pop_2050.append(fpop3)\n",
    "male_pop_2050.append(mpop3)\n",
    "total_pop_2050.append(tpop3)\n",
    "if age == 100:\n",
    "    fpop1 = 0\n",
    "    mpop1 = 0\n",
    "    tpop1 = 0\n",
    "    fpop2 = 0\n",
    "    mpop2 = 0\n",
    "    tpop2 = 0\n",
    "    fpop3 = 0\n",
    "    mpop3 = 0\n",
    "    tpop3 = 0\n",
    "    \n",
    "while( age == 100):\n",
    "        fpop1 += df1.loc[df1['age'] == age, 'pop_female'].sum()\n",
    "        mpop1 += df1.loc[df1['age'] == age, 'pop_male'].sum()\n",
    "        tpop1 += df1.loc[df1['age'] == age, 'pop_total'].sum()\n",
    "        fpop2 += df2.loc[df2['age'] == age, 'pop_female'].sum()\n",
    "        mpop2 += df2.loc[df2['age'] == age, 'pop_male'].sum()\n",
    "        tpop2 += df2.loc[df2['age'] == age, 'pop_total'].sum()\n",
    "        fpop3 += df3.loc[df3['age'] == age, 'pop_female'].sum()\n",
    "        mpop3 += df3.loc[df3['age'] == age, 'pop_male'].sum()\n",
    "        tpop3 += df3.loc[df3['age'] == age, 'pop_total'].sum()\n",
    "        age += 1\n",
    "    \n",
    "female_pop_1970.append(fpop1)\n",
    "male_pop_1970.append(mpop1)\n",
    "total_pop_1970.append(tpop1)\n",
    "female_pop_2018.append(fpop2)\n",
    "male_pop_2018.append(mpop2)\n",
    "total_pop_2018.append(tpop2)\n",
    "female_pop_2050.append(fpop3)\n",
    "male_pop_2050.append(mpop3)\n",
    "total_pop_2050.append(tpop3)\n",
    "\n",
    "\n"
   ]
  },
  {
   "cell_type": "markdown",
   "metadata": {},
   "source": [
    "Store these arrays into dataframes."
   ]
  },
  {
   "cell_type": "code",
   "execution_count": 30,
   "metadata": {
    "collapsed": true
   },
   "outputs": [],
   "source": [
    "df1a = pd.DataFrame({\"age_group\" : age_group, \"female_pop_1970\" : female_pop_1970, \"male_pop_1970\" : male_pop_1970, \"total_pop_1970\" : total_pop_1970})\n",
    "df2a = pd.DataFrame({\"age_group\" : age_group, \"female_pop_2018\" : female_pop_2018, \"male_pop_2018\" : male_pop_2018, \"total_pop_2018\" : total_pop_2018})\n",
    "df3a = pd.DataFrame({\"age_group\" : age_group, \"female_pop_2050\" : female_pop_2050, \"male_pop_2050\" : male_pop_2050, \"total_pop_2050\" : total_pop_2050})"
   ]
  },
  {
   "cell_type": "markdown",
   "metadata": {},
   "source": [
    "Check to make sure they are stored correctly."
   ]
  },
  {
   "cell_type": "code",
   "execution_count": 31,
   "metadata": {},
   "outputs": [
    {
     "data": {
      "text/html": [
       "<div>\n",
       "<style>\n",
       "    .dataframe thead tr:only-child th {\n",
       "        text-align: right;\n",
       "    }\n",
       "\n",
       "    .dataframe thead th {\n",
       "        text-align: left;\n",
       "    }\n",
       "\n",
       "    .dataframe tbody tr th {\n",
       "        vertical-align: top;\n",
       "    }\n",
       "</style>\n",
       "<table border=\"1\" class=\"dataframe\">\n",
       "  <thead>\n",
       "    <tr style=\"text-align: right;\">\n",
       "      <th></th>\n",
       "      <th>age_group</th>\n",
       "      <th>female_pop_1970</th>\n",
       "      <th>male_pop_1970</th>\n",
       "      <th>total_pop_1970</th>\n",
       "    </tr>\n",
       "  </thead>\n",
       "  <tbody>\n",
       "    <tr>\n",
       "      <th>0</th>\n",
       "      <td>0-04</td>\n",
       "      <td>801420</td>\n",
       "      <td>821086</td>\n",
       "      <td>1622506</td>\n",
       "    </tr>\n",
       "    <tr>\n",
       "      <th>1</th>\n",
       "      <td>05-09</td>\n",
       "      <td>937430</td>\n",
       "      <td>956756</td>\n",
       "      <td>1894186</td>\n",
       "    </tr>\n",
       "    <tr>\n",
       "      <th>2</th>\n",
       "      <td>10-14</td>\n",
       "      <td>959683</td>\n",
       "      <td>977762</td>\n",
       "      <td>1937445</td>\n",
       "    </tr>\n",
       "    <tr>\n",
       "      <th>3</th>\n",
       "      <td>15-19</td>\n",
       "      <td>892815</td>\n",
       "      <td>962860</td>\n",
       "      <td>1855675</td>\n",
       "    </tr>\n",
       "    <tr>\n",
       "      <th>4</th>\n",
       "      <td>20-24</td>\n",
       "      <td>879075</td>\n",
       "      <td>1016572</td>\n",
       "      <td>1895647</td>\n",
       "    </tr>\n",
       "  </tbody>\n",
       "</table>\n",
       "</div>"
      ],
      "text/plain": [
       "  age_group  female_pop_1970  male_pop_1970  total_pop_1970\n",
       "0      0-04           801420         821086         1622506\n",
       "1     05-09           937430         956756         1894186\n",
       "2     10-14           959683         977762         1937445\n",
       "3     15-19           892815         962860         1855675\n",
       "4     20-24           879075        1016572         1895647"
      ]
     },
     "execution_count": 31,
     "metadata": {},
     "output_type": "execute_result"
    }
   ],
   "source": [
    "df1a.head(5)"
   ]
  },
  {
   "cell_type": "code",
   "execution_count": 32,
   "metadata": {},
   "outputs": [
    {
     "data": {
      "text/html": [
       "<div>\n",
       "<style>\n",
       "    .dataframe thead tr:only-child th {\n",
       "        text-align: right;\n",
       "    }\n",
       "\n",
       "    .dataframe thead th {\n",
       "        text-align: left;\n",
       "    }\n",
       "\n",
       "    .dataframe tbody tr th {\n",
       "        vertical-align: top;\n",
       "    }\n",
       "</style>\n",
       "<table border=\"1\" class=\"dataframe\">\n",
       "  <thead>\n",
       "    <tr style=\"text-align: right;\">\n",
       "      <th></th>\n",
       "      <th>age_group</th>\n",
       "      <th>female_pop_1970</th>\n",
       "      <th>male_pop_1970</th>\n",
       "      <th>total_pop_1970</th>\n",
       "    </tr>\n",
       "  </thead>\n",
       "  <tbody>\n",
       "    <tr>\n",
       "      <th>16</th>\n",
       "      <td>80-84</td>\n",
       "      <td>130718</td>\n",
       "      <td>76551</td>\n",
       "      <td>207269</td>\n",
       "    </tr>\n",
       "    <tr>\n",
       "      <th>17</th>\n",
       "      <td>85-89</td>\n",
       "      <td>58282</td>\n",
       "      <td>28520</td>\n",
       "      <td>86802</td>\n",
       "    </tr>\n",
       "    <tr>\n",
       "      <th>18</th>\n",
       "      <td>90-94</td>\n",
       "      <td>18883</td>\n",
       "      <td>8371</td>\n",
       "      <td>27254</td>\n",
       "    </tr>\n",
       "    <tr>\n",
       "      <th>19</th>\n",
       "      <td>95-99</td>\n",
       "      <td>4424</td>\n",
       "      <td>1665</td>\n",
       "      <td>6089</td>\n",
       "    </tr>\n",
       "    <tr>\n",
       "      <th>20</th>\n",
       "      <td>&gt;99</td>\n",
       "      <td>4837</td>\n",
       "      <td>4675</td>\n",
       "      <td>9512</td>\n",
       "    </tr>\n",
       "  </tbody>\n",
       "</table>\n",
       "</div>"
      ],
      "text/plain": [
       "   age_group  female_pop_1970  male_pop_1970  total_pop_1970\n",
       "16     80-84           130718          76551          207269\n",
       "17     85-89            58282          28520           86802\n",
       "18     90-94            18883           8371           27254\n",
       "19     95-99             4424           1665            6089\n",
       "20       >99             4837           4675            9512"
      ]
     },
     "execution_count": 32,
     "metadata": {},
     "output_type": "execute_result"
    }
   ],
   "source": [
    "df1a.tail(5)"
   ]
  },
  {
   "cell_type": "markdown",
   "metadata": {},
   "source": [
    "According to the dataset there is more people aged 100 years old, than there is people aged between 95-99. This can only mean that people aged over 100 are stored within the dataset as been 100 years old. This is why I represented them at >99.  "
   ]
  },
  {
   "cell_type": "code",
   "execution_count": 33,
   "metadata": {},
   "outputs": [
    {
     "data": {
      "text/html": [
       "<div>\n",
       "<style>\n",
       "    .dataframe thead tr:only-child th {\n",
       "        text-align: right;\n",
       "    }\n",
       "\n",
       "    .dataframe thead th {\n",
       "        text-align: left;\n",
       "    }\n",
       "\n",
       "    .dataframe tbody tr th {\n",
       "        vertical-align: top;\n",
       "    }\n",
       "</style>\n",
       "<table border=\"1\" class=\"dataframe\">\n",
       "  <thead>\n",
       "    <tr style=\"text-align: right;\">\n",
       "      <th></th>\n",
       "      <th>age_group</th>\n",
       "      <th>female_pop_2018</th>\n",
       "      <th>male_pop_2018</th>\n",
       "      <th>total_pop_2018</th>\n",
       "    </tr>\n",
       "  </thead>\n",
       "  <tbody>\n",
       "    <tr>\n",
       "      <th>0</th>\n",
       "      <td>0-04</td>\n",
       "      <td>1189273</td>\n",
       "      <td>1275448</td>\n",
       "      <td>2464721</td>\n",
       "    </tr>\n",
       "    <tr>\n",
       "      <th>1</th>\n",
       "      <td>05-09</td>\n",
       "      <td>1253879</td>\n",
       "      <td>1312672</td>\n",
       "      <td>2566551</td>\n",
       "    </tr>\n",
       "    <tr>\n",
       "      <th>2</th>\n",
       "      <td>10-14</td>\n",
       "      <td>1283053</td>\n",
       "      <td>1345053</td>\n",
       "      <td>2628106</td>\n",
       "    </tr>\n",
       "    <tr>\n",
       "      <th>3</th>\n",
       "      <td>15-19</td>\n",
       "      <td>1361085</td>\n",
       "      <td>1428823</td>\n",
       "      <td>2789908</td>\n",
       "    </tr>\n",
       "    <tr>\n",
       "      <th>4</th>\n",
       "      <td>20-24</td>\n",
       "      <td>1456558</td>\n",
       "      <td>1574735</td>\n",
       "      <td>3031293</td>\n",
       "    </tr>\n",
       "  </tbody>\n",
       "</table>\n",
       "</div>"
      ],
      "text/plain": [
       "  age_group  female_pop_2018  male_pop_2018  total_pop_2018\n",
       "0      0-04          1189273        1275448         2464721\n",
       "1     05-09          1253879        1312672         2566551\n",
       "2     10-14          1283053        1345053         2628106\n",
       "3     15-19          1361085        1428823         2789908\n",
       "4     20-24          1456558        1574735         3031293"
      ]
     },
     "execution_count": 33,
     "metadata": {},
     "output_type": "execute_result"
    }
   ],
   "source": [
    "df2a.head(5)"
   ]
  },
  {
   "cell_type": "code",
   "execution_count": 34,
   "metadata": {},
   "outputs": [
    {
     "data": {
      "text/html": [
       "<div>\n",
       "<style>\n",
       "    .dataframe thead tr:only-child th {\n",
       "        text-align: right;\n",
       "    }\n",
       "\n",
       "    .dataframe thead th {\n",
       "        text-align: left;\n",
       "    }\n",
       "\n",
       "    .dataframe tbody tr th {\n",
       "        vertical-align: top;\n",
       "    }\n",
       "</style>\n",
       "<table border=\"1\" class=\"dataframe\">\n",
       "  <thead>\n",
       "    <tr style=\"text-align: right;\">\n",
       "      <th></th>\n",
       "      <th>age_group</th>\n",
       "      <th>female_pop_2050</th>\n",
       "      <th>male_pop_2050</th>\n",
       "      <th>total_pop_2050</th>\n",
       "    </tr>\n",
       "  </thead>\n",
       "  <tbody>\n",
       "    <tr>\n",
       "      <th>0</th>\n",
       "      <td>0-04</td>\n",
       "      <td>1142610</td>\n",
       "      <td>1262925</td>\n",
       "      <td>2405535</td>\n",
       "    </tr>\n",
       "    <tr>\n",
       "      <th>1</th>\n",
       "      <td>05-09</td>\n",
       "      <td>1189204</td>\n",
       "      <td>1311548</td>\n",
       "      <td>2500752</td>\n",
       "    </tr>\n",
       "    <tr>\n",
       "      <th>2</th>\n",
       "      <td>10-14</td>\n",
       "      <td>1215588</td>\n",
       "      <td>1340156</td>\n",
       "      <td>2555744</td>\n",
       "    </tr>\n",
       "    <tr>\n",
       "      <th>3</th>\n",
       "      <td>15-19</td>\n",
       "      <td>1343692</td>\n",
       "      <td>1478753</td>\n",
       "      <td>2822445</td>\n",
       "    </tr>\n",
       "    <tr>\n",
       "      <th>4</th>\n",
       "      <td>20-24</td>\n",
       "      <td>1460046</td>\n",
       "      <td>1642850</td>\n",
       "      <td>3102896</td>\n",
       "    </tr>\n",
       "  </tbody>\n",
       "</table>\n",
       "</div>"
      ],
      "text/plain": [
       "  age_group  female_pop_2050  male_pop_2050  total_pop_2050\n",
       "0      0-04          1142610        1262925         2405535\n",
       "1     05-09          1189204        1311548         2500752\n",
       "2     10-14          1215588        1340156         2555744\n",
       "3     15-19          1343692        1478753         2822445\n",
       "4     20-24          1460046        1642850         3102896"
      ]
     },
     "execution_count": 34,
     "metadata": {},
     "output_type": "execute_result"
    }
   ],
   "source": [
    "df3a.head(5)"
   ]
  },
  {
   "cell_type": "markdown",
   "metadata": {},
   "source": [
    "Double check the names of the columns to ensure I call them correctly for the graphs"
   ]
  },
  {
   "cell_type": "code",
   "execution_count": 35,
   "metadata": {},
   "outputs": [
    {
     "data": {
      "text/plain": [
       "Index(['age_group', 'female_pop_1970', 'male_pop_1970', 'total_pop_1970'], dtype='object')"
      ]
     },
     "execution_count": 35,
     "metadata": {},
     "output_type": "execute_result"
    }
   ],
   "source": [
    "df1a.columns"
   ]
  },
  {
   "cell_type": "code",
   "execution_count": 36,
   "metadata": {},
   "outputs": [
    {
     "data": {
      "text/plain": [
       "Index(['age_group', 'female_pop_2018', 'male_pop_2018', 'total_pop_2018'], dtype='object')"
      ]
     },
     "execution_count": 36,
     "metadata": {},
     "output_type": "execute_result"
    }
   ],
   "source": [
    "df2a.columns"
   ]
  },
  {
   "cell_type": "code",
   "execution_count": 37,
   "metadata": {},
   "outputs": [
    {
     "data": {
      "text/plain": [
       "Index(['age_group', 'female_pop_2050', 'male_pop_2050', 'total_pop_2050'], dtype='object')"
      ]
     },
     "execution_count": 37,
     "metadata": {},
     "output_type": "execute_result"
    }
   ],
   "source": [
    "df3a.columns"
   ]
  },
  {
   "cell_type": "markdown",
   "metadata": {},
   "source": [
    "### Analysis and interpretation:3"
   ]
  },
  {
   "cell_type": "code",
   "execution_count": 38,
   "metadata": {},
   "outputs": [
    {
     "data": {
      "image/png": "[encoded data removed]",
      "text/plain": [
       "<matplotlib.figure.Figure at 0x202ac030240>"
      ]
     },
     "metadata": {},
     "output_type": "display_data"
    }
   ],
   "source": [
    "sns.set_style(\"white\")\n",
    "\n",
    "bar_plot = sns.barplot(x=\"total_pop_1970\",y=\"age_group\", color=\"blue\",data = df1a, order =['>99','95-99','90-94','85-89','80-84','75-79','70-74','65-69','60-64','55-59','50-54','45-49','40-44','35-39','30-34','25-29','20-24','15-19','10-14','05-09','0-04'])\n",
    "\n",
    "bar_plot.set(xlabel=\"Total Population\", ylabel=\"Age Groups\", title = \"California's Population Pyramid 1970\");"
   ]
  },
  {
   "cell_type": "code",
   "execution_count": 39,
   "metadata": {},
   "outputs": [
    {
     "data": {
      "image/png": "[encoded data removed]",
      "text/plain": [
       "<matplotlib.figure.Figure at 0x202ac07bcf8>"
      ]
     },
     "metadata": {},
     "output_type": "display_data"
    }
   ],
   "source": [
    "sns.set_style(\"white\")\n",
    "\n",
    "bar_plot = sns.barplot(x=\"total_pop_2018\",y=\"age_group\", color=\"blue\",data = df2a, order =['>99','95-99','90-94','85-89','80-84','75-79','70-74','65-69','60-64','55-59','50-54','45-49','40-44','35-39','30-34','25-29','20-24','15-19','10-14','05-09','0-04'])\n",
    "\n",
    "bar_plot.set(xlabel=\"Total Population\", ylabel=\"Age Groups\", title = \"California's Population Pyramid 2018\");"
   ]
  },
  {
   "cell_type": "code",
   "execution_count": 40,
   "metadata": {},
   "outputs": [
    {
     "data": {
      "image/png": "[encoded data removed]",
      "text/plain": [
       "<matplotlib.figure.Figure at 0x202ac0727f0>"
      ]
     },
     "metadata": {},
     "output_type": "display_data"
    }
   ],
   "source": [
    "sns.set_style(\"white\")\n",
    "\n",
    "bar_plot = sns.barplot(x=\"total_pop_2050\",y=\"age_group\", color=\"blue\",data = df3a, order =['>99','95-99','90-94','85-89','80-84','75-79','70-74','65-69','60-64','55-59','50-54','45-49','40-44','35-39','30-34','25-29','20-24','15-19','10-14','05-09','0-04'])\n",
    " \n",
    "bar_plot.set(xlabel=\"Total Population\", ylabel=\"Age Groups\", title = \"California's Population Pyramid 2050\");"
   ]
  },
  {
   "cell_type": "markdown",
   "metadata": {},
   "source": [
    "Analysis: We can see from the 3 graphs above, more people are projected to live longer into the future (The graphs gradually become more weighted at the top as the years progress). This could be down to better medication, such as cures for HIV and Canncer. \n",
    "\n",
    "It is also clear to see from the graph that 2018 had an unusually low percentage of its population aged >99, lets compare these age group rows from the dataframes to get a better understanding."
   ]
  },
  {
   "cell_type": "code",
   "execution_count": 41,
   "metadata": {},
   "outputs": [
    {
     "data": {
      "text/html": [
       "<div>\n",
       "<style>\n",
       "    .dataframe thead tr:only-child th {\n",
       "        text-align: right;\n",
       "    }\n",
       "\n",
       "    .dataframe thead th {\n",
       "        text-align: left;\n",
       "    }\n",
       "\n",
       "    .dataframe tbody tr th {\n",
       "        vertical-align: top;\n",
       "    }\n",
       "</style>\n",
       "<table border=\"1\" class=\"dataframe\">\n",
       "  <thead>\n",
       "    <tr style=\"text-align: right;\">\n",
       "      <th></th>\n",
       "      <th>age_group</th>\n",
       "      <th>female_pop_1970</th>\n",
       "      <th>male_pop_1970</th>\n",
       "      <th>total_pop_1970</th>\n",
       "    </tr>\n",
       "  </thead>\n",
       "  <tbody>\n",
       "    <tr>\n",
       "      <th>20</th>\n",
       "      <td>&gt;99</td>\n",
       "      <td>4837</td>\n",
       "      <td>4675</td>\n",
       "      <td>9512</td>\n",
       "    </tr>\n",
       "  </tbody>\n",
       "</table>\n",
       "</div>"
      ],
      "text/plain": [
       "   age_group  female_pop_1970  male_pop_1970  total_pop_1970\n",
       "20       >99             4837           4675            9512"
      ]
     },
     "execution_count": 41,
     "metadata": {},
     "output_type": "execute_result"
    }
   ],
   "source": [
    "df1a.tail(1)"
   ]
  },
  {
   "cell_type": "code",
   "execution_count": 42,
   "metadata": {},
   "outputs": [
    {
     "data": {
      "text/html": [
       "<div>\n",
       "<style>\n",
       "    .dataframe thead tr:only-child th {\n",
       "        text-align: right;\n",
       "    }\n",
       "\n",
       "    .dataframe thead th {\n",
       "        text-align: left;\n",
       "    }\n",
       "\n",
       "    .dataframe tbody tr th {\n",
       "        vertical-align: top;\n",
       "    }\n",
       "</style>\n",
       "<table border=\"1\" class=\"dataframe\">\n",
       "  <thead>\n",
       "    <tr style=\"text-align: right;\">\n",
       "      <th></th>\n",
       "      <th>age_group</th>\n",
       "      <th>female_pop_2018</th>\n",
       "      <th>male_pop_2018</th>\n",
       "      <th>total_pop_2018</th>\n",
       "    </tr>\n",
       "  </thead>\n",
       "  <tbody>\n",
       "    <tr>\n",
       "      <th>20</th>\n",
       "      <td>&gt;99</td>\n",
       "      <td>4779</td>\n",
       "      <td>1632</td>\n",
       "      <td>6411</td>\n",
       "    </tr>\n",
       "  </tbody>\n",
       "</table>\n",
       "</div>"
      ],
      "text/plain": [
       "   age_group  female_pop_2018  male_pop_2018  total_pop_2018\n",
       "20       >99             4779           1632            6411"
      ]
     },
     "execution_count": 42,
     "metadata": {},
     "output_type": "execute_result"
    }
   ],
   "source": [
    "df2a.tail(1)"
   ]
  },
  {
   "cell_type": "code",
   "execution_count": 43,
   "metadata": {},
   "outputs": [
    {
     "data": {
      "text/html": [
       "<div>\n",
       "<style>\n",
       "    .dataframe thead tr:only-child th {\n",
       "        text-align: right;\n",
       "    }\n",
       "\n",
       "    .dataframe thead th {\n",
       "        text-align: left;\n",
       "    }\n",
       "\n",
       "    .dataframe tbody tr th {\n",
       "        vertical-align: top;\n",
       "    }\n",
       "</style>\n",
       "<table border=\"1\" class=\"dataframe\">\n",
       "  <thead>\n",
       "    <tr style=\"text-align: right;\">\n",
       "      <th></th>\n",
       "      <th>age_group</th>\n",
       "      <th>female_pop_2050</th>\n",
       "      <th>male_pop_2050</th>\n",
       "      <th>total_pop_2050</th>\n",
       "    </tr>\n",
       "  </thead>\n",
       "  <tbody>\n",
       "    <tr>\n",
       "      <th>20</th>\n",
       "      <td>&gt;99</td>\n",
       "      <td>70241</td>\n",
       "      <td>19180</td>\n",
       "      <td>89421</td>\n",
       "    </tr>\n",
       "  </tbody>\n",
       "</table>\n",
       "</div>"
      ],
      "text/plain": [
       "   age_group  female_pop_2050  male_pop_2050  total_pop_2050\n",
       "20       >99            70241          19180           89421"
      ]
     },
     "execution_count": 43,
     "metadata": {},
     "output_type": "execute_result"
    }
   ],
   "source": [
    "df3a.tail(1)"
   ]
  },
  {
   "cell_type": "markdown",
   "metadata": {},
   "source": [
    "It's extremely suprising to see that there is less people aged >99 in 2018 than 1970, especially when you consider that there is almost twice as many people living in California in 2018 than there was in 1970 (illustrated in the first visualisation). With the growth in population you would expect a growth in the people aged >99.\n",
    "\n",
    "This could be down to an increased intake of processed foods in people's diets, in recent years.\n",
    "\n",
    "Thankfully the amount of people age greater than 99 is schedueled to rise significantly between now and 2050."
   ]
  },
  {
   "cell_type": "markdown",
   "metadata": {},
   "source": [
    "I want to go a step further and see how this applies to Males and Females separately"
   ]
  },
  {
   "cell_type": "markdown",
   "metadata": {},
   "source": [
    "### Analysis and interpretation:4"
   ]
  },
  {
   "cell_type": "code",
   "execution_count": 44,
   "metadata": {},
   "outputs": [
    {
     "data": {
      "image/png": "[encoded data removed]",
      "text/plain": [
       "<matplotlib.figure.Figure at 0x202ac26f160>"
      ]
     },
     "metadata": {},
     "output_type": "display_data"
    }
   ],
   "source": [
    "fig, axes = plt.subplots(ncols=2, sharey=True)\n",
    "\n",
    "axes[0].barh(age_group, male_pop_1970, align='center', color='skyblue', zorder=1)\n",
    "axes[0].set(title='Male Population 1970')\n",
    "axes[1].barh(age_group, female_pop_1970, align='center', color='pink', zorder=1)\n",
    "axes[1].set(title='Female Population 1970')\n",
    "\n",
    "axes[0].invert_xaxis()\n",
    "axes[0].set(yticks=age_group, yticklabels=age_group)\n",
    "axes[0].yaxis.tick_right()\n",
    "axes[0].set_ylabel('Age Groups')\n",
    "\n",
    "for ax in axes.flat:\n",
    "    ax.margins(0.01)\n",
    "    ax.grid(True)\n",
    "\n",
    "fig.tight_layout()\n",
    "fig.subplots_adjust(wspace=0.17)\n",
    "plt.show()"
   ]
  },
  {
   "cell_type": "code",
   "execution_count": 45,
   "metadata": {},
   "outputs": [
    {
     "data": {
      "image/png": "[encoded data removed]",
      "text/plain": [
       "<matplotlib.figure.Figure at 0x202ac1f7940>"
      ]
     },
     "metadata": {},
     "output_type": "display_data"
    }
   ],
   "source": [
    "fig, axes = plt.subplots(ncols=2, sharey=True)\n",
    "\n",
    "axes[0].barh(age_group, male_pop_2018, align='center', color='skyblue', zorder=1)\n",
    "axes[0].set(title='Male Population 2018')\n",
    "axes[1].barh(age_group, female_pop_2018, align='center', color='pink', zorder=1)\n",
    "axes[1].set(title='Female Population 2018')\n",
    "\n",
    "axes[0].invert_xaxis()\n",
    "axes[0].set(yticks=age_group, yticklabels=age_group)\n",
    "axes[0].yaxis.tick_right()\n",
    "axes[0].set_ylabel('Age Groups')\n",
    "\n",
    "for ax in axes.flat:\n",
    "    ax.margins(0.01)\n",
    "    ax.grid(True)\n",
    "\n",
    "fig.tight_layout()\n",
    "fig.subplots_adjust(wspace=0.17)\n",
    "plt.show()"
   ]
  },
  {
   "cell_type": "code",
   "execution_count": 46,
   "metadata": {},
   "outputs": [
    {
     "data": {
      "image/png": "[encoded data removed]",
      "text/plain": [
       "<matplotlib.figure.Figure at 0x202ac1ae7f0>"
      ]
     },
     "metadata": {},
     "output_type": "display_data"
    }
   ],
   "source": [
    "fig, axes = plt.subplots(ncols=2, sharey=True)\n",
    "\n",
    "axes[0].barh(age_group, male_pop_2050, align='center', color='skyblue', zorder=1)\n",
    "axes[0].set(title='Male Population 2050')\n",
    "axes[1].barh(age_group, female_pop_2050, align='center', color='pink', zorder=1)\n",
    "axes[1].set(title='Female Population 2050')\n",
    "\n",
    "axes[0].invert_xaxis()\n",
    "axes[0].set(yticks=age_group, yticklabels=age_group)\n",
    "axes[0].yaxis.tick_right()\n",
    "axes[0].set_ylabel('Age Groups')\n",
    "\n",
    "for ax in axes.flat:\n",
    "    ax.margins(0.01)\n",
    "    ax.grid(True)\n",
    "\n",
    "fig.tight_layout()\n",
    "fig.subplots_adjust(wspace=0.17)\n",
    "plt.show()"
   ]
  },
  {
   "cell_type": "markdown",
   "metadata": {},
   "source": [
    "Analysis: The 3 population pyramids abouve all show a roughly equal divde in the number of Males and Females. It also appears that Females seem to be living slightly longer than Males, according to all 3 of these years. It's possible that it is just a coincidence that Females are projected to live longer than men in the 3 years in question, but I believe if we looked at all of the years we would see this trend throughout. "
   ]
  },
  {
   "cell_type": "markdown",
   "metadata": {},
   "source": [
    "### Possible Further Analysis  "
   ]
  },
  {
   "cell_type": "markdown",
   "metadata": {},
   "source": [
    "This dataset is just a projection, I would be intrigued to see accurate this projection really is. To test this, I could obtain more accurate data in 10 years time and compare how this projection fared against the actual population for those 10 years, This would give a good indication of just how reliable this projection is. I could do this test every 5-10 years. \n",
    "\n",
    "Another interesting option would be to explore how California compares with other states in the US. I'd reckon that California would fare quiet well as it is one of America's bigest states. But it would be intersting to study other states, for example Florida is known for having an older population, due to many retired people settling there.\n",
    "\n",
    "Other options would include looking at why Female supposedly live longer than men, but this would require looking at different datasets, such as medical ones."
   ]
  }
 ],
 "metadata": {
  "kernelspec": {
   "display_name": "Python 3",
   "language": "python",
   "name": "python3"
  },
  "language_info": {
   "codemirror_mode": {
    "name": "ipython",
    "version": 3
   },
   "file_extension": ".py",
   "mimetype": "text/x-python",
   "name": "python",
   "nbconvert_exporter": "python",
   "pygments_lexer": "ipython3",
   "version": "3.6.3"
  }
 },
 "nbformat": 4,
 "nbformat_minor": 2
}
